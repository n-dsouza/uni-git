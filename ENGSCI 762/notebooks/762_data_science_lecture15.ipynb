{
 "cells": [
  {
   "cell_type": "code",
   "execution_count": null,
   "metadata": {},
   "outputs": [],
   "source": [
    "import numpy as np \n",
    "import pandas as pd\n",
    "import matplotlib.pyplot as plt\n",
    "import seaborn as sns\n",
    "sns.set()\n",
    "\n",
    "%matplotlib inline\n",
    "%load_ext autoreload\n",
    "%autoreload 2\n",
    "\n",
    "sns.__version__"
   ]
  },
  {
   "cell_type": "code",
   "execution_count": null,
   "metadata": {},
   "outputs": [],
   "source": [
    "# Read train and test data of 762 assignment\n",
    "# Adapt path to files downloaded from https://www.kaggle.com/c/iowa-house-prices-regression-techniques/data\n",
    "df = pd.read_csv('/Users/obi/04-Research/dsds/data/raw/DS19cn0_AmesHousing/train.csv', \n",
    "                 index_col=0)\n",
    "test = pd.read_csv('/Users/obi/04-Research/dsds/data/raw/DS19cn0_AmesHousing/test.csv', \n",
    "                 index_col=0)"
   ]
  },
  {
   "cell_type": "code",
   "execution_count": null,
   "metadata": {},
   "outputs": [],
   "source": [
    "# Check first five rows of train set\n",
    "df.head()"
   ]
  },
  {
   "cell_type": "code",
   "execution_count": null,
   "metadata": {},
   "outputs": [],
   "source": [
    "# Check column types\n",
    "# 'object' indicates categorical variables, which need to be one-hot-encoded\n",
    "df.info()"
   ]
  },
  {
   "cell_type": "markdown",
   "metadata": {},
   "source": [
    "# Check missing values"
   ]
  },
  {
   "cell_type": "code",
   "execution_count": null,
   "metadata": {},
   "outputs": [],
   "source": [
    "# Check missing values\n",
    "# .isna() returns boolean array, True values have value 1 in summation\n",
    "df.isna().sum().sum()>0 # Yes, there are missing values"
   ]
  },
  {
   "cell_type": "code",
   "execution_count": null,
   "metadata": {},
   "outputs": [],
   "source": [
    "# Decision: Drop columns with missing values\n",
    "\n",
    "df2 = df.dropna(axis=1)\n",
    "df2.shape, df2.isna().sum().sum()>0 # df2 does not contain missing values"
   ]
  },
  {
   "cell_type": "code",
   "execution_count": null,
   "metadata": {},
   "outputs": [],
   "source": [
    "# Check column types\n",
    "# 'object' indicates categorical variables\n",
    "df2.info()"
   ]
  },
  {
   "cell_type": "markdown",
   "metadata": {},
   "source": [
    "# Visualize categorical data"
   ]
  },
  {
   "cell_type": "markdown",
   "metadata": {},
   "source": [
    "## Use catplot for categorical data"
   ]
  },
  {
   "cell_type": "code",
   "execution_count": null,
   "metadata": {},
   "outputs": [],
   "source": [
    "sns.__version__"
   ]
  },
  {
   "cell_type": "code",
   "execution_count": null,
   "metadata": {},
   "outputs": [],
   "source": [
    "# You might need to update seaborn on the Anaconda console\n",
    "# conda install seaborn==0.9.0\n",
    "sns.catplot(x='MSZoning', y='SalePrice', data=df2, kind='bar')"
   ]
  },
  {
   "cell_type": "code",
   "execution_count": null,
   "metadata": {},
   "outputs": [],
   "source": [
    "# Alternative implementation using .groupby\n",
    "# Warning: different colour scheme\n",
    "df2.groupby('MSZoning').SalePrice.mean().plot(kind='bar')"
   ]
  },
  {
   "cell_type": "markdown",
   "metadata": {},
   "source": [
    "# Use lmplot for visualizing continous features"
   ]
  },
  {
   "cell_type": "code",
   "execution_count": null,
   "metadata": {},
   "outputs": [],
   "source": [
    "# LotArea seems to have some outliers\n",
    "sns.lmplot(x='LotArea', y='SalePrice', data=df)"
   ]
  },
  {
   "cell_type": "code",
   "execution_count": null,
   "metadata": {},
   "outputs": [],
   "source": [
    "# (df.LotArea>100000) return boolean array, which contains 4 True values\n",
    "np.sum(df.LotArea > 100000)"
   ]
  },
  {
   "cell_type": "code",
   "execution_count": null,
   "metadata": {},
   "outputs": [],
   "source": [
    "# Create new dataframe, which excludes outliers\n",
    "df3 = df2[df.LotArea <= 100000]"
   ]
  },
  {
   "cell_type": "code",
   "execution_count": null,
   "metadata": {},
   "outputs": [],
   "source": [
    "# Check is outliers have been excluded\n",
    "# plot indicates that a log-transformation of LotArea might be reasonable\n",
    "sns.lmplot(x='LotArea', y='SalePrice', data=df3)"
   ]
  },
  {
   "cell_type": "code",
   "execution_count": null,
   "metadata": {},
   "outputs": [],
   "source": [
    "# Create a new dataframe in order to add new columns\n",
    "df4 = df3.copy()"
   ]
  },
  {
   "cell_type": "code",
   "execution_count": null,
   "metadata": {},
   "outputs": [],
   "source": [
    "# Create new column with log-transformed LotArea\n",
    "df4['log_LotArea'] = np.log(df4.LotArea)"
   ]
  },
  {
   "cell_type": "code",
   "execution_count": null,
   "metadata": {},
   "outputs": [],
   "source": [
    "# Visualized new column\n",
    "# Looks fine, but perhaps polynomial features would be useful, too?\n",
    "# e.g. df4['log_LotArea2'] = np.log(df4.LotArea)**2\n",
    "sns.lmplot(x='log_LotArea', y='SalePrice', data=df4)"
   ]
  },
  {
   "cell_type": "markdown",
   "metadata": {},
   "source": [
    "## Use Violin plot for comparing categories"
   ]
  },
  {
   "cell_type": "code",
   "execution_count": null,
   "metadata": {},
   "outputs": [],
   "source": [
    "# Create new column, which indicates if MSZoning is 'FV'\n",
    "df4['MSZoning_FV'] = df4.MSZoning=='FV'"
   ]
  },
  {
   "cell_type": "code",
   "execution_count": null,
   "metadata": {},
   "outputs": [],
   "source": [
    "# Visualize distribution of sale prices for different land contours\n",
    "# and zoning.\n",
    "# FV zone seems to coincide with land contour 'Lvl'\n",
    "# We have to check the data description at http://jse.amstat.org/v19n3/decock/DataDocumentation.txt\n",
    "sns.violinplot(x='LandContour', \n",
    "               y='SalePrice', \n",
    "               data=df4, \n",
    "               hue = 'MSZoning_FV',\n",
    "               split=True, inner=\"quart\",\n",
    "               )"
   ]
  },
  {
   "cell_type": "code",
   "execution_count": null,
   "metadata": {},
   "outputs": [],
   "source": []
  }
 ],
 "metadata": {
  "kernelspec": {
   "display_name": "Python 3",
   "language": "python",
   "name": "python3"
  },
  "language_info": {
   "codemirror_mode": {
    "name": "ipython",
    "version": 3
   },
   "file_extension": ".py",
   "mimetype": "text/x-python",
   "name": "python",
   "nbconvert_exporter": "python",
   "pygments_lexer": "ipython3",
   "version": "3.7.1"
  }
 },
 "nbformat": 4,
 "nbformat_minor": 2
}
