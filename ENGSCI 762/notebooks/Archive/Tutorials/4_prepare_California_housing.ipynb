{
 "cells": [
  {
   "cell_type": "markdown",
   "metadata": {},
   "source": [
    "# IV Prepare the data\n",
    "\n",
    "This notebook assumes, that notebook 2_get_California_housing_data.ipynb has been successfully executed."
   ]
  },
  {
   "cell_type": "code",
   "execution_count": 1,
   "metadata": {},
   "outputs": [],
   "source": [
    "import numpy as np \n",
    "import pandas as pd\n",
    "import matplotlib.pyplot as plt\n",
    "import seaborn as sns\n",
    "sns.set()\n",
    "\n",
    "%matplotlib inline"
   ]
  },
  {
   "cell_type": "code",
   "execution_count": 2,
   "metadata": {},
   "outputs": [],
   "source": [
    "def split_features_labels(filename = '../data/train_set.csv', \n",
    "                          target_col='median_house_value'):\n",
    "    df = pd.read_csv(filename, index_col=0)\n",
    "    X = df.drop(target_col, axis=1)\n",
    "    y = df[target_col].copy()\n",
    "    return X, y\n",
    "\n",
    "housing, housing_labels = split_features_labels()\n",
    "housing_test, housing_test_labels = split_features_labels('../data/test_set.csv')"
   ]
  },
  {
   "cell_type": "markdown",
   "metadata": {},
   "source": [
    "## IV.1 Data Cleaning"
   ]
  },
  {
   "cell_type": "code",
   "execution_count": 3,
   "metadata": {},
   "outputs": [
    {
     "name": "stdout",
     "output_type": "stream",
     "text": [
      "<class 'pandas.core.frame.DataFrame'>\n",
      "Int64Index: 16512 entries, 1862 to 14525\n",
      "Data columns (total 9 columns):\n",
      "longitude             16512 non-null float64\n",
      "latitude              16512 non-null float64\n",
      "housing_median_age    16512 non-null float64\n",
      "total_rooms           16512 non-null float64\n",
      "total_bedrooms        16344 non-null float64\n",
      "population            16512 non-null float64\n",
      "households            16512 non-null float64\n",
      "median_income         16512 non-null float64\n",
      "ocean_proximity       16512 non-null object\n",
      "dtypes: float64(8), object(1)\n",
      "memory usage: 1.3+ MB\n"
     ]
    }
   ],
   "source": [
    "housing.info()"
   ]
  },
  {
   "cell_type": "code",
   "execution_count": 4,
   "metadata": {},
   "outputs": [
    {
     "data": {
      "text/plain": [
       "longitude               0\n",
       "latitude                0\n",
       "housing_median_age      0\n",
       "total_rooms             0\n",
       "total_bedrooms        168\n",
       "population              0\n",
       "households              0\n",
       "median_income           0\n",
       "ocean_proximity         0\n",
       "dtype: int64"
      ]
     },
     "execution_count": 4,
     "metadata": {},
     "output_type": "execute_result"
    }
   ],
   "source": [
    "# Identify features with missing values\n",
    "housing.isna().sum()"
   ]
  },
  {
   "cell_type": "code",
   "execution_count": 5,
   "metadata": {},
   "outputs": [
    {
     "data": {
      "text/html": [
       "<div>\n",
       "<style scoped>\n",
       "    .dataframe tbody tr th:only-of-type {\n",
       "        vertical-align: middle;\n",
       "    }\n",
       "\n",
       "    .dataframe tbody tr th {\n",
       "        vertical-align: top;\n",
       "    }\n",
       "\n",
       "    .dataframe thead th {\n",
       "        text-align: right;\n",
       "    }\n",
       "</style>\n",
       "<table border=\"1\" class=\"dataframe\">\n",
       "  <thead>\n",
       "    <tr style=\"text-align: right;\">\n",
       "      <th></th>\n",
       "      <th>longitude</th>\n",
       "      <th>latitude</th>\n",
       "      <th>housing_median_age</th>\n",
       "      <th>total_rooms</th>\n",
       "      <th>total_bedrooms</th>\n",
       "      <th>population</th>\n",
       "      <th>households</th>\n",
       "      <th>median_income</th>\n",
       "      <th>ocean_proximity</th>\n",
       "    </tr>\n",
       "  </thead>\n",
       "  <tbody>\n",
       "    <tr>\n",
       "      <th>5059</th>\n",
       "      <td>-118.35</td>\n",
       "      <td>34.01</td>\n",
       "      <td>35.0</td>\n",
       "      <td>3776.0</td>\n",
       "      <td>NaN</td>\n",
       "      <td>1583.0</td>\n",
       "      <td>749.0</td>\n",
       "      <td>3.5486</td>\n",
       "      <td>&lt;1H OCEAN</td>\n",
       "    </tr>\n",
       "    <tr>\n",
       "      <th>14015</th>\n",
       "      <td>-117.17</td>\n",
       "      <td>32.75</td>\n",
       "      <td>52.0</td>\n",
       "      <td>1052.0</td>\n",
       "      <td>NaN</td>\n",
       "      <td>381.0</td>\n",
       "      <td>201.0</td>\n",
       "      <td>3.0726</td>\n",
       "      <td>NEAR OCEAN</td>\n",
       "    </tr>\n",
       "    <tr>\n",
       "      <th>11311</th>\n",
       "      <td>-117.96</td>\n",
       "      <td>33.78</td>\n",
       "      <td>33.0</td>\n",
       "      <td>1520.0</td>\n",
       "      <td>NaN</td>\n",
       "      <td>658.0</td>\n",
       "      <td>242.0</td>\n",
       "      <td>4.8750</td>\n",
       "      <td>&lt;1H OCEAN</td>\n",
       "    </tr>\n",
       "    <tr>\n",
       "      <th>20484</th>\n",
       "      <td>-118.72</td>\n",
       "      <td>34.28</td>\n",
       "      <td>17.0</td>\n",
       "      <td>3051.0</td>\n",
       "      <td>NaN</td>\n",
       "      <td>1705.0</td>\n",
       "      <td>495.0</td>\n",
       "      <td>5.7376</td>\n",
       "      <td>&lt;1H OCEAN</td>\n",
       "    </tr>\n",
       "    <tr>\n",
       "      <th>14173</th>\n",
       "      <td>-117.05</td>\n",
       "      <td>32.75</td>\n",
       "      <td>36.0</td>\n",
       "      <td>2024.0</td>\n",
       "      <td>NaN</td>\n",
       "      <td>1030.0</td>\n",
       "      <td>390.0</td>\n",
       "      <td>3.8233</td>\n",
       "      <td>NEAR OCEAN</td>\n",
       "    </tr>\n",
       "  </tbody>\n",
       "</table>\n",
       "</div>"
      ],
      "text/plain": [
       "       longitude  latitude  housing_median_age  total_rooms  total_bedrooms  \\\n",
       "5059     -118.35     34.01                35.0       3776.0             NaN   \n",
       "14015    -117.17     32.75                52.0       1052.0             NaN   \n",
       "11311    -117.96     33.78                33.0       1520.0             NaN   \n",
       "20484    -118.72     34.28                17.0       3051.0             NaN   \n",
       "14173    -117.05     32.75                36.0       2024.0             NaN   \n",
       "\n",
       "       population  households  median_income ocean_proximity  \n",
       "5059       1583.0       749.0         3.5486       <1H OCEAN  \n",
       "14015       381.0       201.0         3.0726      NEAR OCEAN  \n",
       "11311       658.0       242.0         4.8750       <1H OCEAN  \n",
       "20484      1705.0       495.0         5.7376       <1H OCEAN  \n",
       "14173      1030.0       390.0         3.8233      NEAR OCEAN  "
      ]
     },
     "execution_count": 5,
     "metadata": {},
     "output_type": "execute_result"
    }
   ],
   "source": [
    "mask = housing.total_bedrooms.isna()\n",
    "housing[mask].head()"
   ]
  },
  {
   "cell_type": "code",
   "execution_count": 6,
   "metadata": {},
   "outputs": [
    {
     "data": {
      "text/plain": [
       "(16512, 9)"
      ]
     },
     "execution_count": 6,
     "metadata": {},
     "output_type": "execute_result"
    }
   ],
   "source": [
    "housing.shape"
   ]
  },
  {
   "cell_type": "code",
   "execution_count": 7,
   "metadata": {},
   "outputs": [
    {
     "data": {
      "text/plain": [
       "(16344, 9)"
      ]
     },
     "execution_count": 7,
     "metadata": {},
     "output_type": "execute_result"
    }
   ],
   "source": [
    "# variant 1: Drop rows with missing values\n",
    "h1 = housing.dropna(subset = ['total_bedrooms'])\n",
    "h1.shape"
   ]
  },
  {
   "cell_type": "code",
   "execution_count": 8,
   "metadata": {},
   "outputs": [
    {
     "data": {
      "text/plain": [
       "(16512, 8)"
      ]
     },
     "execution_count": 8,
     "metadata": {},
     "output_type": "execute_result"
    }
   ],
   "source": [
    "# variant 2: Drop columns with missing values\n",
    "h2 = housing.drop('total_bedrooms', axis=1)\n",
    "h2.shape"
   ]
  },
  {
   "cell_type": "code",
   "execution_count": 9,
   "metadata": {},
   "outputs": [
    {
     "data": {
      "text/plain": [
       "(16512, 9)"
      ]
     },
     "execution_count": 9,
     "metadata": {},
     "output_type": "execute_result"
    }
   ],
   "source": [
    "# variant 3: Impute missing values\n",
    "median = housing[\"total_bedrooms\"].median()\n",
    "h3 = housing.copy()\n",
    "h3['total_bedrooms'] = housing[\"total_bedrooms\"].fillna(median)\n",
    "h3.shape"
   ]
  },
  {
   "cell_type": "code",
   "execution_count": 10,
   "metadata": {},
   "outputs": [
    {
     "data": {
      "text/plain": [
       "longitude             0\n",
       "latitude              0\n",
       "housing_median_age    0\n",
       "total_rooms           0\n",
       "total_bedrooms        0\n",
       "population            0\n",
       "households            0\n",
       "median_income         0\n",
       "ocean_proximity       0\n",
       "dtype: int64"
      ]
     },
     "execution_count": 10,
     "metadata": {},
     "output_type": "execute_result"
    }
   ],
   "source": [
    "h3.isna().sum()"
   ]
  },
  {
   "cell_type": "code",
   "execution_count": 11,
   "metadata": {},
   "outputs": [
    {
     "data": {
      "text/html": [
       "<div>\n",
       "<style scoped>\n",
       "    .dataframe tbody tr th:only-of-type {\n",
       "        vertical-align: middle;\n",
       "    }\n",
       "\n",
       "    .dataframe tbody tr th {\n",
       "        vertical-align: top;\n",
       "    }\n",
       "\n",
       "    .dataframe thead th {\n",
       "        text-align: right;\n",
       "    }\n",
       "</style>\n",
       "<table border=\"1\" class=\"dataframe\">\n",
       "  <thead>\n",
       "    <tr style=\"text-align: right;\">\n",
       "      <th></th>\n",
       "      <th>longitude</th>\n",
       "      <th>latitude</th>\n",
       "      <th>housing_median_age</th>\n",
       "      <th>total_rooms</th>\n",
       "      <th>total_bedrooms</th>\n",
       "      <th>population</th>\n",
       "      <th>households</th>\n",
       "      <th>median_income</th>\n",
       "      <th>ocean_proximity</th>\n",
       "    </tr>\n",
       "  </thead>\n",
       "  <tbody>\n",
       "    <tr>\n",
       "      <th>2930</th>\n",
       "      <td>-119.00</td>\n",
       "      <td>35.36</td>\n",
       "      <td>39.0</td>\n",
       "      <td>896.0</td>\n",
       "      <td>217.0</td>\n",
       "      <td>805.0</td>\n",
       "      <td>197.0</td>\n",
       "      <td>1.2500</td>\n",
       "      <td>INLAND</td>\n",
       "    </tr>\n",
       "    <tr>\n",
       "      <th>16225</th>\n",
       "      <td>-121.33</td>\n",
       "      <td>37.97</td>\n",
       "      <td>38.0</td>\n",
       "      <td>3166.0</td>\n",
       "      <td>575.0</td>\n",
       "      <td>1351.0</td>\n",
       "      <td>561.0</td>\n",
       "      <td>3.5404</td>\n",
       "      <td>INLAND</td>\n",
       "    </tr>\n",
       "    <tr>\n",
       "      <th>5115</th>\n",
       "      <td>-118.30</td>\n",
       "      <td>33.96</td>\n",
       "      <td>39.0</td>\n",
       "      <td>2802.0</td>\n",
       "      <td>618.0</td>\n",
       "      <td>1524.0</td>\n",
       "      <td>529.0</td>\n",
       "      <td>2.6518</td>\n",
       "      <td>&lt;1H OCEAN</td>\n",
       "    </tr>\n",
       "  </tbody>\n",
       "</table>\n",
       "</div>"
      ],
      "text/plain": [
       "       longitude  latitude  housing_median_age  total_rooms  total_bedrooms  \\\n",
       "2930     -119.00     35.36                39.0        896.0           217.0   \n",
       "16225    -121.33     37.97                38.0       3166.0           575.0   \n",
       "5115     -118.30     33.96                39.0       2802.0           618.0   \n",
       "\n",
       "       population  households  median_income ocean_proximity  \n",
       "2930        805.0       197.0         1.2500          INLAND  \n",
       "16225      1351.0       561.0         3.5404          INLAND  \n",
       "5115       1524.0       529.0         2.6518       <1H OCEAN  "
      ]
     },
     "execution_count": 11,
     "metadata": {},
     "output_type": "execute_result"
    }
   ],
   "source": [
    "housing_copy = housing.copy().iloc[21:24]\n",
    "median = housing_copy[\"total_bedrooms\"].median()\n",
    "housing_copy[\"total_bedrooms\"].fillna(median, inplace=True) # option 3\n",
    "housing_copy"
   ]
  },
  {
   "cell_type": "code",
   "execution_count": 12,
   "metadata": {},
   "outputs": [
    {
     "data": {
      "text/plain": [
       "longitude               -118.35\n",
       "latitude                  34.01\n",
       "housing_median_age           35\n",
       "total_rooms                3776\n",
       "total_bedrooms              435\n",
       "population                 1583\n",
       "households                  749\n",
       "median_income            3.5486\n",
       "ocean_proximity       <1H OCEAN\n",
       "Name: 5059, dtype: object"
      ]
     },
     "execution_count": 12,
     "metadata": {},
     "output_type": "execute_result"
    }
   ],
   "source": [
    "h3.loc[5059]"
   ]
  },
  {
   "cell_type": "markdown",
   "metadata": {},
   "source": [
    "## Impute numerical features with scikit-learn Transformer"
   ]
  },
  {
   "cell_type": "code",
   "execution_count": 13,
   "metadata": {},
   "outputs": [
    {
     "data": {
      "text/html": [
       "<div>\n",
       "<style scoped>\n",
       "    .dataframe tbody tr th:only-of-type {\n",
       "        vertical-align: middle;\n",
       "    }\n",
       "\n",
       "    .dataframe tbody tr th {\n",
       "        vertical-align: top;\n",
       "    }\n",
       "\n",
       "    .dataframe thead th {\n",
       "        text-align: right;\n",
       "    }\n",
       "</style>\n",
       "<table border=\"1\" class=\"dataframe\">\n",
       "  <thead>\n",
       "    <tr style=\"text-align: right;\">\n",
       "      <th></th>\n",
       "      <th>longitude</th>\n",
       "      <th>latitude</th>\n",
       "      <th>housing_median_age</th>\n",
       "      <th>total_rooms</th>\n",
       "      <th>total_bedrooms</th>\n",
       "      <th>population</th>\n",
       "      <th>households</th>\n",
       "      <th>median_income</th>\n",
       "    </tr>\n",
       "  </thead>\n",
       "  <tbody>\n",
       "    <tr>\n",
       "      <th>1862</th>\n",
       "      <td>-124.15</td>\n",
       "      <td>41.81</td>\n",
       "      <td>17.0</td>\n",
       "      <td>3276.0</td>\n",
       "      <td>628.0</td>\n",
       "      <td>3546.0</td>\n",
       "      <td>585.0</td>\n",
       "      <td>2.2868</td>\n",
       "    </tr>\n",
       "    <tr>\n",
       "      <th>18832</th>\n",
       "      <td>-122.92</td>\n",
       "      <td>41.70</td>\n",
       "      <td>23.0</td>\n",
       "      <td>4017.0</td>\n",
       "      <td>792.0</td>\n",
       "      <td>1634.0</td>\n",
       "      <td>619.0</td>\n",
       "      <td>2.3571</td>\n",
       "    </tr>\n",
       "    <tr>\n",
       "      <th>2488</th>\n",
       "      <td>-120.35</td>\n",
       "      <td>36.14</td>\n",
       "      <td>9.0</td>\n",
       "      <td>2671.0</td>\n",
       "      <td>647.0</td>\n",
       "      <td>1484.0</td>\n",
       "      <td>541.0</td>\n",
       "      <td>1.7075</td>\n",
       "    </tr>\n",
       "    <tr>\n",
       "      <th>7637</th>\n",
       "      <td>-118.29</td>\n",
       "      <td>33.82</td>\n",
       "      <td>21.0</td>\n",
       "      <td>4383.0</td>\n",
       "      <td>901.0</td>\n",
       "      <td>2689.0</td>\n",
       "      <td>913.0</td>\n",
       "      <td>3.4375</td>\n",
       "    </tr>\n",
       "    <tr>\n",
       "      <th>6941</th>\n",
       "      <td>-118.10</td>\n",
       "      <td>33.99</td>\n",
       "      <td>31.0</td>\n",
       "      <td>965.0</td>\n",
       "      <td>217.0</td>\n",
       "      <td>599.0</td>\n",
       "      <td>206.0</td>\n",
       "      <td>2.7202</td>\n",
       "    </tr>\n",
       "  </tbody>\n",
       "</table>\n",
       "</div>"
      ],
      "text/plain": [
       "       longitude  latitude  housing_median_age  total_rooms  total_bedrooms  \\\n",
       "1862     -124.15     41.81                17.0       3276.0           628.0   \n",
       "18832    -122.92     41.70                23.0       4017.0           792.0   \n",
       "2488     -120.35     36.14                 9.0       2671.0           647.0   \n",
       "7637     -118.29     33.82                21.0       4383.0           901.0   \n",
       "6941     -118.10     33.99                31.0        965.0           217.0   \n",
       "\n",
       "       population  households  median_income  \n",
       "1862       3546.0       585.0         2.2868  \n",
       "18832      1634.0       619.0         2.3571  \n",
       "2488       1484.0       541.0         1.7075  \n",
       "7637       2689.0       913.0         3.4375  \n",
       "6941        599.0       206.0         2.7202  "
      ]
     },
     "execution_count": 13,
     "metadata": {},
     "output_type": "execute_result"
    }
   ],
   "source": [
    "# Create DataFrame with numerical features\n",
    "housing_num = housing.drop(\"ocean_proximity\", axis=1)\n",
    "housing_num.head()"
   ]
  },
  {
   "cell_type": "code",
   "execution_count": 14,
   "metadata": {},
   "outputs": [
    {
     "data": {
      "text/plain": [
       "numpy.ndarray"
      ]
     },
     "execution_count": 14,
     "metadata": {},
     "output_type": "execute_result"
    }
   ],
   "source": [
    "from sklearn.preprocessing import Imputer\n",
    "\n",
    "imputer = Imputer(strategy='median')\n",
    "imputer.fit(housing_num)\n",
    "X = imputer.transform(housing_num)\n",
    "type(X)"
   ]
  },
  {
   "cell_type": "code",
   "execution_count": 15,
   "metadata": {},
   "outputs": [
    {
     "data": {
      "text/plain": [
       "longitude             0\n",
       "latitude              0\n",
       "housing_median_age    0\n",
       "total_rooms           0\n",
       "total_bedrooms        0\n",
       "population            0\n",
       "households            0\n",
       "median_income         0\n",
       "dtype: int64"
      ]
     },
     "execution_count": 15,
     "metadata": {},
     "output_type": "execute_result"
    }
   ],
   "source": [
    "# Create DataFrame from imputed feature matrix\n",
    "housing_tr = pd.DataFrame(X, columns=housing_num.columns,\n",
    "                         index=housing_num.index)\n",
    "housing_tr.isna().sum()"
   ]
  },
  {
   "cell_type": "code",
   "execution_count": 16,
   "metadata": {},
   "outputs": [
    {
     "data": {
      "text/plain": [
       "longitude             -118.3500\n",
       "latitude                34.0100\n",
       "housing_median_age      35.0000\n",
       "total_rooms           3776.0000\n",
       "total_bedrooms         435.0000\n",
       "population            1583.0000\n",
       "households             749.0000\n",
       "median_income            3.5486\n",
       "Name: 5059, dtype: float64"
      ]
     },
     "execution_count": 16,
     "metadata": {},
     "output_type": "execute_result"
    }
   ],
   "source": [
    "housing_tr.loc[5059]"
   ]
  },
  {
   "cell_type": "code",
   "execution_count": 17,
   "metadata": {},
   "outputs": [
    {
     "data": {
      "text/plain": [
       "array([ -118.49  ,    34.25  ,    29.    ,  2127.    ,   435.    ,\n",
       "        1167.    ,   410.    ,     3.5348])"
      ]
     },
     "execution_count": 17,
     "metadata": {},
     "output_type": "execute_result"
    }
   ],
   "source": [
    "imputer.statistics_"
   ]
  },
  {
   "cell_type": "code",
   "execution_count": 18,
   "metadata": {},
   "outputs": [
    {
     "data": {
      "text/plain": [
       "array([ -118.49  ,    34.25  ,    29.    ,  2127.    ,   435.    ,\n",
       "        1167.    ,   410.    ,     3.5348])"
      ]
     },
     "execution_count": 18,
     "metadata": {},
     "output_type": "execute_result"
    }
   ],
   "source": [
    "housing_num.median().values"
   ]
  },
  {
   "cell_type": "code",
   "execution_count": 19,
   "metadata": {},
   "outputs": [
    {
     "data": {
      "text/plain": [
       "'median'"
      ]
     },
     "execution_count": 19,
     "metadata": {},
     "output_type": "execute_result"
    }
   ],
   "source": [
    "imputer.strategy"
   ]
  },
  {
   "cell_type": "code",
   "execution_count": 20,
   "metadata": {},
   "outputs": [
    {
     "data": {
      "text/html": [
       "<div>\n",
       "<style scoped>\n",
       "    .dataframe tbody tr th:only-of-type {\n",
       "        vertical-align: middle;\n",
       "    }\n",
       "\n",
       "    .dataframe tbody tr th {\n",
       "        vertical-align: top;\n",
       "    }\n",
       "\n",
       "    .dataframe thead th {\n",
       "        text-align: right;\n",
       "    }\n",
       "</style>\n",
       "<table border=\"1\" class=\"dataframe\">\n",
       "  <thead>\n",
       "    <tr style=\"text-align: right;\">\n",
       "      <th></th>\n",
       "      <th>longitude</th>\n",
       "      <th>latitude</th>\n",
       "      <th>housing_median_age</th>\n",
       "      <th>total_rooms</th>\n",
       "      <th>total_bedrooms</th>\n",
       "      <th>population</th>\n",
       "      <th>households</th>\n",
       "      <th>median_income</th>\n",
       "    </tr>\n",
       "  </thead>\n",
       "  <tbody>\n",
       "    <tr>\n",
       "      <th>1862</th>\n",
       "      <td>-124.15</td>\n",
       "      <td>41.81</td>\n",
       "      <td>17.0</td>\n",
       "      <td>3276.0</td>\n",
       "      <td>628.0</td>\n",
       "      <td>3546.0</td>\n",
       "      <td>585.0</td>\n",
       "      <td>2.2868</td>\n",
       "    </tr>\n",
       "    <tr>\n",
       "      <th>18832</th>\n",
       "      <td>-122.92</td>\n",
       "      <td>41.70</td>\n",
       "      <td>23.0</td>\n",
       "      <td>4017.0</td>\n",
       "      <td>792.0</td>\n",
       "      <td>1634.0</td>\n",
       "      <td>619.0</td>\n",
       "      <td>2.3571</td>\n",
       "    </tr>\n",
       "    <tr>\n",
       "      <th>2488</th>\n",
       "      <td>-120.35</td>\n",
       "      <td>36.14</td>\n",
       "      <td>9.0</td>\n",
       "      <td>2671.0</td>\n",
       "      <td>647.0</td>\n",
       "      <td>1484.0</td>\n",
       "      <td>541.0</td>\n",
       "      <td>1.7075</td>\n",
       "    </tr>\n",
       "    <tr>\n",
       "      <th>7637</th>\n",
       "      <td>-118.29</td>\n",
       "      <td>33.82</td>\n",
       "      <td>21.0</td>\n",
       "      <td>4383.0</td>\n",
       "      <td>901.0</td>\n",
       "      <td>2689.0</td>\n",
       "      <td>913.0</td>\n",
       "      <td>3.4375</td>\n",
       "    </tr>\n",
       "    <tr>\n",
       "      <th>6941</th>\n",
       "      <td>-118.10</td>\n",
       "      <td>33.99</td>\n",
       "      <td>31.0</td>\n",
       "      <td>965.0</td>\n",
       "      <td>217.0</td>\n",
       "      <td>599.0</td>\n",
       "      <td>206.0</td>\n",
       "      <td>2.7202</td>\n",
       "    </tr>\n",
       "  </tbody>\n",
       "</table>\n",
       "</div>"
      ],
      "text/plain": [
       "       longitude  latitude  housing_median_age  total_rooms  total_bedrooms  \\\n",
       "1862     -124.15     41.81                17.0       3276.0           628.0   \n",
       "18832    -122.92     41.70                23.0       4017.0           792.0   \n",
       "2488     -120.35     36.14                 9.0       2671.0           647.0   \n",
       "7637     -118.29     33.82                21.0       4383.0           901.0   \n",
       "6941     -118.10     33.99                31.0        965.0           217.0   \n",
       "\n",
       "       population  households  median_income  \n",
       "1862       3546.0       585.0         2.2868  \n",
       "18832      1634.0       619.0         2.3571  \n",
       "2488       1484.0       541.0         1.7075  \n",
       "7637       2689.0       913.0         3.4375  \n",
       "6941        599.0       206.0         2.7202  "
      ]
     },
     "execution_count": 20,
     "metadata": {},
     "output_type": "execute_result"
    }
   ],
   "source": [
    "housing_tr.head()"
   ]
  },
  {
   "cell_type": "markdown",
   "metadata": {},
   "source": [
    "## Encode categorical variable"
   ]
  },
  {
   "cell_type": "code",
   "execution_count": 21,
   "metadata": {},
   "outputs": [
    {
     "data": {
      "text/plain": [
       "array([4, 1, 1, ..., 0, 4, 0])"
      ]
     },
     "execution_count": 21,
     "metadata": {},
     "output_type": "execute_result"
    }
   ],
   "source": [
    "from sklearn.preprocessing import LabelEncoder\n",
    "\n",
    "encoder = LabelEncoder()\n",
    "housing_cat = housing[\"ocean_proximity\"]\n",
    "housing_cat_encoded = encoder.fit_transform(housing_cat)\n",
    "housing_cat_encoded"
   ]
  },
  {
   "cell_type": "code",
   "execution_count": 22,
   "metadata": {},
   "outputs": [
    {
     "name": "stdout",
     "output_type": "stream",
     "text": [
      "['<1H OCEAN' 'INLAND' 'ISLAND' 'NEAR BAY' 'NEAR OCEAN']\n"
     ]
    }
   ],
   "source": [
    "print(encoder.classes_)"
   ]
  },
  {
   "cell_type": "code",
   "execution_count": 23,
   "metadata": {},
   "outputs": [
    {
     "data": {
      "text/plain": [
       "<16512x5 sparse matrix of type '<class 'numpy.float64'>'\n",
       "\twith 16512 stored elements in Compressed Sparse Row format>"
      ]
     },
     "execution_count": 23,
     "metadata": {},
     "output_type": "execute_result"
    }
   ],
   "source": [
    "from sklearn.preprocessing import OneHotEncoder\n",
    "\n",
    "encoder = OneHotEncoder()\n",
    "housing_cat_1hot = encoder.fit_transform(housing_cat_encoded.reshape(-1,1))\n",
    "housing_cat_1hot"
   ]
  },
  {
   "cell_type": "code",
   "execution_count": 24,
   "metadata": {},
   "outputs": [
    {
     "data": {
      "text/plain": [
       "array([[ 0.,  0.,  0.,  0.,  1.],\n",
       "       [ 0.,  1.,  0.,  0.,  0.],\n",
       "       [ 0.,  1.,  0.,  0.,  0.],\n",
       "       ..., \n",
       "       [ 1.,  0.,  0.,  0.,  0.],\n",
       "       [ 0.,  0.,  0.,  0.,  1.],\n",
       "       [ 1.,  0.,  0.,  0.,  0.]])"
      ]
     },
     "execution_count": 24,
     "metadata": {},
     "output_type": "execute_result"
    }
   ],
   "source": [
    "housing_cat_1hot.toarray()"
   ]
  },
  {
   "cell_type": "code",
   "execution_count": 25,
   "metadata": {},
   "outputs": [
    {
     "data": {
      "text/plain": [
       "array([[0, 0, 0, 0, 1],\n",
       "       [0, 1, 0, 0, 0],\n",
       "       [0, 1, 0, 0, 0],\n",
       "       ..., \n",
       "       [1, 0, 0, 0, 0],\n",
       "       [0, 0, 0, 0, 1],\n",
       "       [1, 0, 0, 0, 0]])"
      ]
     },
     "execution_count": 25,
     "metadata": {},
     "output_type": "execute_result"
    }
   ],
   "source": [
    "from sklearn.preprocessing import LabelBinarizer\n",
    "\n",
    "encoder = LabelBinarizer()\n",
    "encoder.fit_transform(housing_cat)"
   ]
  },
  {
   "cell_type": "code",
   "execution_count": 26,
   "metadata": {},
   "outputs": [
    {
     "data": {
      "text/plain": [
       "array(['<1H OCEAN', 'INLAND', 'ISLAND', 'NEAR BAY', 'NEAR OCEAN'],\n",
       "      dtype='<U10')"
      ]
     },
     "execution_count": 26,
     "metadata": {},
     "output_type": "execute_result"
    }
   ],
   "source": [
    "encoder.classes_"
   ]
  },
  {
   "cell_type": "code",
   "execution_count": 27,
   "metadata": {},
   "outputs": [],
   "source": [
    "from sklearn.base import BaseEstimator, TransformerMixin\n",
    "\n",
    "class DataFrameSelector(BaseEstimator, TransformerMixin):\n",
    "    def __init__(self, attribute_names):\n",
    "        self.attribute_names = attribute_names\n",
    "    def fit(self, X, y=None):\n",
    "        return self\n",
    "    def transform(self, X):\n",
    "        return X[self.attribute_names].values\n",
    "\n",
    "num_attribs = list(housing_num)\n",
    "cat_attribs = [\"ocean_proximity\"]"
   ]
  },
  {
   "cell_type": "code",
   "execution_count": 28,
   "metadata": {},
   "outputs": [
    {
     "data": {
      "text/plain": [
       "array([[0, 0, 0, 0, 1],\n",
       "       [0, 1, 0, 0, 0],\n",
       "       [0, 1, 0, 0, 0],\n",
       "       ..., \n",
       "       [1, 0, 0, 0, 0],\n",
       "       [0, 0, 0, 0, 1],\n",
       "       [1, 0, 0, 0, 0]])"
      ]
     },
     "execution_count": 28,
     "metadata": {},
     "output_type": "execute_result"
    }
   ],
   "source": [
    "LabelBinarizer().fit_transform(DataFrameSelector(cat_attribs).fit_transform(housing))"
   ]
  },
  {
   "cell_type": "code",
   "execution_count": 29,
   "metadata": {},
   "outputs": [
    {
     "data": {
      "text/plain": [
       "array([[0, 0, 0, 0, 1],\n",
       "       [0, 1, 0, 0, 0],\n",
       "       [0, 1, 0, 0, 0],\n",
       "       ..., \n",
       "       [1, 0, 0, 0, 0],\n",
       "       [0, 0, 0, 0, 1],\n",
       "       [1, 0, 0, 0, 0]])"
      ]
     },
     "execution_count": 29,
     "metadata": {},
     "output_type": "execute_result"
    }
   ],
   "source": [
    "class Binarizer(BaseEstimator, TransformerMixin):\n",
    "    \"Work around until CategoricalEncoder is in stable branch\"\n",
    "    def __init__(self):\n",
    "        self.binarizer = LabelBinarizer()\n",
    "    def fit(self, X, y=None):\n",
    "        return self.binarizer.fit(X)\n",
    "    def transform(self, X, y=None):\n",
    "        return self.binarizer.transform(X)\n",
    "    \n",
    "Binarizer().fit_transform(DataFrameSelector(cat_attribs).fit_transform(housing))"
   ]
  },
  {
   "cell_type": "code",
   "execution_count": 30,
   "metadata": {},
   "outputs": [
    {
     "data": {
      "text/html": [
       "<div>\n",
       "<style scoped>\n",
       "    .dataframe tbody tr th:only-of-type {\n",
       "        vertical-align: middle;\n",
       "    }\n",
       "\n",
       "    .dataframe tbody tr th {\n",
       "        vertical-align: top;\n",
       "    }\n",
       "\n",
       "    .dataframe thead th {\n",
       "        text-align: right;\n",
       "    }\n",
       "</style>\n",
       "<table border=\"1\" class=\"dataframe\">\n",
       "  <thead>\n",
       "    <tr style=\"text-align: right;\">\n",
       "      <th></th>\n",
       "      <th>longitude</th>\n",
       "      <th>latitude</th>\n",
       "      <th>housing_median_age</th>\n",
       "      <th>total_rooms</th>\n",
       "      <th>total_bedrooms</th>\n",
       "      <th>population</th>\n",
       "      <th>households</th>\n",
       "      <th>median_income</th>\n",
       "      <th>ocean_proximity</th>\n",
       "      <th>rooms_per_household</th>\n",
       "      <th>population_per_household</th>\n",
       "    </tr>\n",
       "  </thead>\n",
       "  <tbody>\n",
       "    <tr>\n",
       "      <th>0</th>\n",
       "      <td>-124.15</td>\n",
       "      <td>41.81</td>\n",
       "      <td>17</td>\n",
       "      <td>3276</td>\n",
       "      <td>628</td>\n",
       "      <td>3546</td>\n",
       "      <td>585</td>\n",
       "      <td>2.2868</td>\n",
       "      <td>NEAR OCEAN</td>\n",
       "      <td>5.6</td>\n",
       "      <td>6.06154</td>\n",
       "    </tr>\n",
       "    <tr>\n",
       "      <th>1</th>\n",
       "      <td>-122.92</td>\n",
       "      <td>41.7</td>\n",
       "      <td>23</td>\n",
       "      <td>4017</td>\n",
       "      <td>792</td>\n",
       "      <td>1634</td>\n",
       "      <td>619</td>\n",
       "      <td>2.3571</td>\n",
       "      <td>INLAND</td>\n",
       "      <td>6.4895</td>\n",
       "      <td>2.63974</td>\n",
       "    </tr>\n",
       "    <tr>\n",
       "      <th>2</th>\n",
       "      <td>-120.35</td>\n",
       "      <td>36.14</td>\n",
       "      <td>9</td>\n",
       "      <td>2671</td>\n",
       "      <td>647</td>\n",
       "      <td>1484</td>\n",
       "      <td>541</td>\n",
       "      <td>1.7075</td>\n",
       "      <td>INLAND</td>\n",
       "      <td>4.93715</td>\n",
       "      <td>2.74307</td>\n",
       "    </tr>\n",
       "    <tr>\n",
       "      <th>3</th>\n",
       "      <td>-118.29</td>\n",
       "      <td>33.82</td>\n",
       "      <td>21</td>\n",
       "      <td>4383</td>\n",
       "      <td>901</td>\n",
       "      <td>2689</td>\n",
       "      <td>913</td>\n",
       "      <td>3.4375</td>\n",
       "      <td>&lt;1H OCEAN</td>\n",
       "      <td>4.80066</td>\n",
       "      <td>2.94524</td>\n",
       "    </tr>\n",
       "    <tr>\n",
       "      <th>4</th>\n",
       "      <td>-118.1</td>\n",
       "      <td>33.99</td>\n",
       "      <td>31</td>\n",
       "      <td>965</td>\n",
       "      <td>217</td>\n",
       "      <td>599</td>\n",
       "      <td>206</td>\n",
       "      <td>2.7202</td>\n",
       "      <td>&lt;1H OCEAN</td>\n",
       "      <td>4.68447</td>\n",
       "      <td>2.90777</td>\n",
       "    </tr>\n",
       "  </tbody>\n",
       "</table>\n",
       "</div>"
      ],
      "text/plain": [
       "  longitude latitude housing_median_age total_rooms total_bedrooms population  \\\n",
       "0   -124.15    41.81                 17        3276            628       3546   \n",
       "1   -122.92     41.7                 23        4017            792       1634   \n",
       "2   -120.35    36.14                  9        2671            647       1484   \n",
       "3   -118.29    33.82                 21        4383            901       2689   \n",
       "4    -118.1    33.99                 31         965            217        599   \n",
       "\n",
       "  households median_income ocean_proximity rooms_per_household  \\\n",
       "0        585        2.2868      NEAR OCEAN                 5.6   \n",
       "1        619        2.3571          INLAND              6.4895   \n",
       "2        541        1.7075          INLAND             4.93715   \n",
       "3        913        3.4375       <1H OCEAN             4.80066   \n",
       "4        206        2.7202       <1H OCEAN             4.68447   \n",
       "\n",
       "  population_per_household  \n",
       "0                  6.06154  \n",
       "1                  2.63974  \n",
       "2                  2.74307  \n",
       "3                  2.94524  \n",
       "4                  2.90777  "
      ]
     },
     "execution_count": 30,
     "metadata": {},
     "output_type": "execute_result"
    }
   ],
   "source": [
    "rooms_ix, bedrooms_ix, population_ix, household_ix = 3, 4, 5, 6\n",
    "\n",
    "class CombinedAttributesAdder(BaseEstimator, TransformerMixin):\n",
    "    def __init__(self, add_bedrooms_per_room = True): # no *args or **kargs\n",
    "        self.add_bedrooms_per_room = add_bedrooms_per_room\n",
    "        self.added_columns = [\"rooms_per_household\", \"population_per_household\"]\n",
    "        if self.add_bedrooms_per_room:\n",
    "            self.added_columns += [\"bedrooms_per_room\"]\n",
    "            \n",
    "    def fit(self, X, y=None):\n",
    "        return self  # nothing else to do\n",
    "    \n",
    "    def transform(self, X, y=None):\n",
    "        rooms_per_household = X[:, rooms_ix] / X[:, household_ix]\n",
    "        population_per_household = X[:, population_ix] / X[:, household_ix]\n",
    "        if self.add_bedrooms_per_room:\n",
    "            bedrooms_per_room = X[:, bedrooms_ix] / X[:, rooms_ix]\n",
    "            return np.c_[X, rooms_per_household, population_per_household, bedrooms_per_room]\n",
    "        else:\n",
    "            return np.c_[X, rooms_per_household, population_per_household]\n",
    "\n",
    "attr_adder = CombinedAttributesAdder(add_bedrooms_per_room=False)\n",
    "housing_extra_attribs = attr_adder.transform(housing.values)\n",
    "\n",
    "housing_extra_attribs = pd.DataFrame(housing_extra_attribs, \n",
    "                                     columns=list(housing.columns) + attr_adder.added_columns)\n",
    "housing_extra_attribs.head()"
   ]
  },
  {
   "cell_type": "code",
   "execution_count": 31,
   "metadata": {},
   "outputs": [
    {
     "data": {
      "text/plain": [
       "array([[-2.2813647 ,  2.88761852, -0.92730526, ...,  0.06049651,\n",
       "         0.25526898, -0.34686806],\n",
       "       [-1.66841867,  2.83618177, -0.45044749, ...,  0.40200195,\n",
       "        -0.03977906, -0.26067972],\n",
       "       [-0.3877103 ,  0.23628785, -1.56311561, ..., -0.19399019,\n",
       "        -0.0308696 ,  0.45012399],\n",
       "       ..., \n",
       "       [ 0.47938409, -0.69424972,  0.26483915, ...,  0.21253074,\n",
       "        -0.07214738, -0.50810062],\n",
       "       [-1.71825168,  1.32113568,  1.85436503, ...,  1.10348168,\n",
       "        -0.09294394,  0.28343112],\n",
       "       [ 1.21691264, -1.26940611, -1.00678155, ...,  0.0333381 ,\n",
       "         0.05293733, -0.47430168]])"
      ]
     },
     "execution_count": 31,
     "metadata": {},
     "output_type": "execute_result"
    }
   ],
   "source": [
    "from sklearn.pipeline import Pipeline\n",
    "from sklearn.preprocessing import StandardScaler\n",
    "\n",
    "num_pipeline = Pipeline([\n",
    "        ('imputer', Imputer(strategy=\"median\")),\n",
    "        ('attribs_adder', CombinedAttributesAdder()),\n",
    "        ('std_scaler', StandardScaler()),\n",
    "    ])\n",
    "\n",
    "num_pipeline.fit_transform(housing_num)"
   ]
  },
  {
   "cell_type": "code",
   "execution_count": 32,
   "metadata": {},
   "outputs": [],
   "source": [
    "from sklearn.pipeline import FeatureUnion\n",
    "\n",
    "num_pipeline = Pipeline([\n",
    "        ('selector', DataFrameSelector(num_attribs)),\n",
    "        ('imputer', Imputer(strategy=\"median\")),\n",
    "        ('attribs_adder', CombinedAttributesAdder()),\n",
    "        ('std_scaler', StandardScaler()),\n",
    "    ])\n",
    "\n",
    "\n",
    "# Monkey-patch function returning feature names\n",
    "all_num_columns = num_attribs + num_pipeline.named_steps['attribs_adder'].added_columns\n",
    "num_pipeline.get_feature_names = lambda: all_num_columns\n",
    "\n",
    "# Modify class by inheritance\n",
    "cat_pipeline_steps = [\n",
    "        ('selector', DataFrameSelector(cat_attribs)),\n",
    "        ('label_encoder', Binarizer()),\n",
    "    ]\n",
    "class MyPipeline(Pipeline):\n",
    "    def get_feature_names(self):\n",
    "        return self.steps[1][1].binarizer.classes_\n",
    "cat_pipeline = MyPipeline(cat_pipeline_steps)\n",
    "\n",
    "preparation_pipeline = FeatureUnion(transformer_list=[\n",
    "        (\"num_pipeline\", num_pipeline),\n",
    "        (\"cat_pipeline\", cat_pipeline),\n",
    "    ])"
   ]
  },
  {
   "cell_type": "code",
   "execution_count": 33,
   "metadata": {},
   "outputs": [
    {
     "data": {
      "text/plain": [
       "array([[0, 0, 0, 0, 1],\n",
       "       [0, 1, 0, 0, 0],\n",
       "       [0, 1, 0, 0, 0],\n",
       "       ..., \n",
       "       [1, 0, 0, 0, 0],\n",
       "       [0, 0, 0, 0, 1],\n",
       "       [1, 0, 0, 0, 0]])"
      ]
     },
     "execution_count": 33,
     "metadata": {},
     "output_type": "execute_result"
    }
   ],
   "source": [
    "cat_pipeline.fit_transform(housing)"
   ]
  },
  {
   "cell_type": "code",
   "execution_count": 34,
   "metadata": {},
   "outputs": [
    {
     "data": {
      "text/plain": [
       "array(['<1H OCEAN', 'INLAND', 'ISLAND', 'NEAR BAY', 'NEAR OCEAN'],\n",
       "      dtype='<U10')"
      ]
     },
     "execution_count": 34,
     "metadata": {},
     "output_type": "execute_result"
    }
   ],
   "source": [
    "obj = cat_pipeline.steps[1][1]\n",
    "obj.binarizer.classes_"
   ]
  },
  {
   "cell_type": "code",
   "execution_count": 35,
   "metadata": {},
   "outputs": [
    {
     "data": {
      "text/plain": [
       "['num_pipeline__longitude',\n",
       " 'num_pipeline__latitude',\n",
       " 'num_pipeline__housing_median_age',\n",
       " 'num_pipeline__total_rooms',\n",
       " 'num_pipeline__total_bedrooms',\n",
       " 'num_pipeline__population',\n",
       " 'num_pipeline__households',\n",
       " 'num_pipeline__median_income',\n",
       " 'num_pipeline__rooms_per_household',\n",
       " 'num_pipeline__population_per_household',\n",
       " 'num_pipeline__bedrooms_per_room',\n",
       " 'cat_pipeline__<1H OCEAN',\n",
       " 'cat_pipeline__INLAND',\n",
       " 'cat_pipeline__ISLAND',\n",
       " 'cat_pipeline__NEAR BAY',\n",
       " 'cat_pipeline__NEAR OCEAN']"
      ]
     },
     "execution_count": 35,
     "metadata": {},
     "output_type": "execute_result"
    }
   ],
   "source": [
    "preparation_pipeline.get_feature_names()"
   ]
  },
  {
   "cell_type": "code",
   "execution_count": 36,
   "metadata": {},
   "outputs": [
    {
     "data": {
      "text/html": [
       "<div>\n",
       "<style scoped>\n",
       "    .dataframe tbody tr th:only-of-type {\n",
       "        vertical-align: middle;\n",
       "    }\n",
       "\n",
       "    .dataframe tbody tr th {\n",
       "        vertical-align: top;\n",
       "    }\n",
       "\n",
       "    .dataframe thead th {\n",
       "        text-align: right;\n",
       "    }\n",
       "</style>\n",
       "<table border=\"1\" class=\"dataframe\">\n",
       "  <thead>\n",
       "    <tr style=\"text-align: right;\">\n",
       "      <th></th>\n",
       "      <th>num_pipeline__longitude</th>\n",
       "      <th>num_pipeline__latitude</th>\n",
       "      <th>num_pipeline__housing_median_age</th>\n",
       "      <th>num_pipeline__total_rooms</th>\n",
       "      <th>num_pipeline__total_bedrooms</th>\n",
       "      <th>num_pipeline__population</th>\n",
       "      <th>num_pipeline__households</th>\n",
       "      <th>num_pipeline__median_income</th>\n",
       "      <th>num_pipeline__rooms_per_household</th>\n",
       "      <th>num_pipeline__population_per_household</th>\n",
       "      <th>num_pipeline__bedrooms_per_room</th>\n",
       "      <th>cat_pipeline__&lt;1H OCEAN</th>\n",
       "      <th>cat_pipeline__INLAND</th>\n",
       "      <th>cat_pipeline__ISLAND</th>\n",
       "      <th>cat_pipeline__NEAR BAY</th>\n",
       "      <th>cat_pipeline__NEAR OCEAN</th>\n",
       "    </tr>\n",
       "  </thead>\n",
       "  <tbody>\n",
       "    <tr>\n",
       "      <th>1862</th>\n",
       "      <td>-2.281365</td>\n",
       "      <td>2.887619</td>\n",
       "      <td>-0.927305</td>\n",
       "      <td>0.292908</td>\n",
       "      <td>0.217002</td>\n",
       "      <td>1.856885</td>\n",
       "      <td>0.224303</td>\n",
       "      <td>-0.830593</td>\n",
       "      <td>0.060497</td>\n",
       "      <td>0.255269</td>\n",
       "      <td>-0.346868</td>\n",
       "      <td>0.0</td>\n",
       "      <td>0.0</td>\n",
       "      <td>0.0</td>\n",
       "      <td>0.0</td>\n",
       "      <td>1.0</td>\n",
       "    </tr>\n",
       "    <tr>\n",
       "      <th>18832</th>\n",
       "      <td>-1.668419</td>\n",
       "      <td>2.836182</td>\n",
       "      <td>-0.450447</td>\n",
       "      <td>0.633004</td>\n",
       "      <td>0.608756</td>\n",
       "      <td>0.181753</td>\n",
       "      <td>0.313571</td>\n",
       "      <td>-0.793651</td>\n",
       "      <td>0.402002</td>\n",
       "      <td>-0.039779</td>\n",
       "      <td>-0.260680</td>\n",
       "      <td>0.0</td>\n",
       "      <td>1.0</td>\n",
       "      <td>0.0</td>\n",
       "      <td>0.0</td>\n",
       "      <td>0.0</td>\n",
       "    </tr>\n",
       "    <tr>\n",
       "      <th>2488</th>\n",
       "      <td>-0.387710</td>\n",
       "      <td>0.236288</td>\n",
       "      <td>-1.563116</td>\n",
       "      <td>0.015231</td>\n",
       "      <td>0.262388</td>\n",
       "      <td>0.050336</td>\n",
       "      <td>0.108780</td>\n",
       "      <td>-1.135007</td>\n",
       "      <td>-0.193990</td>\n",
       "      <td>-0.030870</td>\n",
       "      <td>0.450124</td>\n",
       "      <td>0.0</td>\n",
       "      <td>1.0</td>\n",
       "      <td>0.0</td>\n",
       "      <td>0.0</td>\n",
       "      <td>0.0</td>\n",
       "    </tr>\n",
       "    <tr>\n",
       "      <th>7637</th>\n",
       "      <td>0.638850</td>\n",
       "      <td>-0.848560</td>\n",
       "      <td>-0.609400</td>\n",
       "      <td>0.800987</td>\n",
       "      <td>0.869129</td>\n",
       "      <td>1.106054</td>\n",
       "      <td>1.085476</td>\n",
       "      <td>-0.225916</td>\n",
       "      <td>-0.246395</td>\n",
       "      <td>-0.013438</td>\n",
       "      <td>-0.128123</td>\n",
       "      <td>1.0</td>\n",
       "      <td>0.0</td>\n",
       "      <td>0.0</td>\n",
       "      <td>0.0</td>\n",
       "      <td>0.0</td>\n",
       "    </tr>\n",
       "    <tr>\n",
       "      <th>6941</th>\n",
       "      <td>0.733532</td>\n",
       "      <td>-0.769067</td>\n",
       "      <td>0.185363</td>\n",
       "      <td>-0.767771</td>\n",
       "      <td>-0.764773</td>\n",
       "      <td>-0.725026</td>\n",
       "      <td>-0.770771</td>\n",
       "      <td>-0.602847</td>\n",
       "      <td>-0.291004</td>\n",
       "      <td>-0.016668</td>\n",
       "      <td>0.176319</td>\n",
       "      <td>1.0</td>\n",
       "      <td>0.0</td>\n",
       "      <td>0.0</td>\n",
       "      <td>0.0</td>\n",
       "      <td>0.0</td>\n",
       "    </tr>\n",
       "  </tbody>\n",
       "</table>\n",
       "</div>"
      ],
      "text/plain": [
       "       num_pipeline__longitude  num_pipeline__latitude  \\\n",
       "1862                 -2.281365                2.887619   \n",
       "18832                -1.668419                2.836182   \n",
       "2488                 -0.387710                0.236288   \n",
       "7637                  0.638850               -0.848560   \n",
       "6941                  0.733532               -0.769067   \n",
       "\n",
       "       num_pipeline__housing_median_age  num_pipeline__total_rooms  \\\n",
       "1862                          -0.927305                   0.292908   \n",
       "18832                         -0.450447                   0.633004   \n",
       "2488                          -1.563116                   0.015231   \n",
       "7637                          -0.609400                   0.800987   \n",
       "6941                           0.185363                  -0.767771   \n",
       "\n",
       "       num_pipeline__total_bedrooms  num_pipeline__population  \\\n",
       "1862                       0.217002                  1.856885   \n",
       "18832                      0.608756                  0.181753   \n",
       "2488                       0.262388                  0.050336   \n",
       "7637                       0.869129                  1.106054   \n",
       "6941                      -0.764773                 -0.725026   \n",
       "\n",
       "       num_pipeline__households  num_pipeline__median_income  \\\n",
       "1862                   0.224303                    -0.830593   \n",
       "18832                  0.313571                    -0.793651   \n",
       "2488                   0.108780                    -1.135007   \n",
       "7637                   1.085476                    -0.225916   \n",
       "6941                  -0.770771                    -0.602847   \n",
       "\n",
       "       num_pipeline__rooms_per_household  \\\n",
       "1862                            0.060497   \n",
       "18832                           0.402002   \n",
       "2488                           -0.193990   \n",
       "7637                           -0.246395   \n",
       "6941                           -0.291004   \n",
       "\n",
       "       num_pipeline__population_per_household  \\\n",
       "1862                                 0.255269   \n",
       "18832                               -0.039779   \n",
       "2488                                -0.030870   \n",
       "7637                                -0.013438   \n",
       "6941                                -0.016668   \n",
       "\n",
       "       num_pipeline__bedrooms_per_room  cat_pipeline__<1H OCEAN  \\\n",
       "1862                         -0.346868                      0.0   \n",
       "18832                        -0.260680                      0.0   \n",
       "2488                          0.450124                      0.0   \n",
       "7637                         -0.128123                      1.0   \n",
       "6941                          0.176319                      1.0   \n",
       "\n",
       "       cat_pipeline__INLAND  cat_pipeline__ISLAND  cat_pipeline__NEAR BAY  \\\n",
       "1862                    0.0                   0.0                     0.0   \n",
       "18832                   1.0                   0.0                     0.0   \n",
       "2488                    1.0                   0.0                     0.0   \n",
       "7637                    0.0                   0.0                     0.0   \n",
       "6941                    0.0                   0.0                     0.0   \n",
       "\n",
       "       cat_pipeline__NEAR OCEAN  \n",
       "1862                        1.0  \n",
       "18832                       0.0  \n",
       "2488                        0.0  \n",
       "7637                        0.0  \n",
       "6941                        0.0  "
      ]
     },
     "execution_count": 36,
     "metadata": {},
     "output_type": "execute_result"
    }
   ],
   "source": [
    "X_train = pd.DataFrame(preparation_pipeline.fit_transform(housing),\n",
    "                      columns=preparation_pipeline.get_feature_names(),\n",
    "                      index = housing.index)\n",
    "X_train.head()"
   ]
  },
  {
   "cell_type": "code",
   "execution_count": 37,
   "metadata": {},
   "outputs": [
    {
     "data": {
      "text/plain": [
       "'../results/X_train.csv'"
      ]
     },
     "execution_count": 37,
     "metadata": {},
     "output_type": "execute_result"
    }
   ],
   "source": [
    "import os\n",
    "result_path = '../results'\n",
    "if not os.path.exists(result_path):\n",
    "    os.makedirs(result_path)\n",
    "get_path = lambda fn: os.path.join(result_path, fn)\n",
    "get_path('X_train.csv')"
   ]
  },
  {
   "cell_type": "code",
   "execution_count": 38,
   "metadata": {},
   "outputs": [],
   "source": [
    "X_train.to_csv(get_path('X_train.csv'))\n",
    "housing_labels.to_csv(get_path('y_train.csv'), header=True)"
   ]
  },
  {
   "cell_type": "markdown",
   "metadata": {},
   "source": [
    "## Prepare test data"
   ]
  },
  {
   "cell_type": "code",
   "execution_count": 39,
   "metadata": {},
   "outputs": [],
   "source": [
    "X_test = pd.DataFrame(preparation_pipeline.transform(housing_test),\n",
    "                      columns=preparation_pipeline.get_feature_names(),\n",
    "                     index = housing_test.index)\n",
    "X_test.to_csv(get_path('X_test.csv'))\n",
    "housing_test_labels.to_csv(get_path('y_test.csv'), header=True)"
   ]
  },
  {
   "cell_type": "code",
   "execution_count": null,
   "metadata": {},
   "outputs": [],
   "source": []
  }
 ],
 "metadata": {
  "kernelspec": {
   "display_name": "Python 3",
   "language": "python",
   "name": "python3"
  },
  "language_info": {
   "codemirror_mode": {
    "name": "ipython",
    "version": 3
   },
   "file_extension": ".py",
   "mimetype": "text/x-python",
   "name": "python",
   "nbconvert_exporter": "python",
   "pygments_lexer": "ipython3",
   "version": "3.6.3"
  },
  "nav_menu": {
   "height": "279px",
   "width": "309px"
  },
  "toc": {
   "navigate_menu": true,
   "number_sections": true,
   "sideBar": true,
   "threshold": 6,
   "toc_cell": false,
   "toc_section_display": "block",
   "toc_window_display": false
  }
 },
 "nbformat": 4,
 "nbformat_minor": 1
}
