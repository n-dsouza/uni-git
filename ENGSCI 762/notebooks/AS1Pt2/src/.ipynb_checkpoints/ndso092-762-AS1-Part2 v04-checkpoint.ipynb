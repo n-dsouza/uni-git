{
 "cells": [
  {
   "cell_type": "markdown",
   "metadata": {},
   "source": [
    "# ENGSCI 762 - AS1 - Part I\n",
    "## Noel D'Souza - ndso092 - 449609993"
   ]
  },
  {
   "cell_type": "markdown",
   "metadata": {},
   "source": [
    "## 4. Prepare the data"
   ]
  },
  {
   "cell_type": "code",
   "execution_count": 1,
   "metadata": {},
   "outputs": [
    {
     "data": {
      "text/plain": [
       "'0.20.3'"
      ]
     },
     "execution_count": 1,
     "metadata": {},
     "output_type": "execute_result"
    }
   ],
   "source": [
    "import numpy as np \n",
    "import pandas as pd\n",
    "import matplotlib.pyplot as plt\n",
    "import seaborn as sns\n",
    "sns.set()\n",
    "\n",
    "import sklearn\n",
    "sklearn.__version__\n",
    "\n",
    "%matplotlib inline\n",
    "%load_ext autoreload\n",
    "%autoreload 2"
   ]
  },
  {
   "cell_type": "code",
   "execution_count": 32,
   "metadata": {},
   "outputs": [],
   "source": [
    "# Import the raw data as a pandas dataframe\n",
    "train = pd.read_csv('../data/train.csv', index_col=0)\n",
    "test = pd.read_csv('../data/test.csv', index_col=0)\n",
    "\n",
    "# Separate the label (SalePrice column) from the training data\n",
    "housing = train.drop('SalePrice', axis=1)\n",
    "y_train = train['SalePrice'].copy()\n",
    "housing_test = test"
   ]
  },
  {
   "cell_type": "code",
   "execution_count": 33,
   "metadata": {},
   "outputs": [],
   "source": [
    "# Edit all occurrences of string \"NA\", convert them to \"None\" to avoid syntax confusion when applying transformations.\n",
    "for item in ('Alley','BsmtQual','BsmtCond','BsmtExposure','BsmtFinType1','BsmtFinType2',\n",
    "             'FireplaceQu','GarageType','GarageFinish','GarageCond','PoolQC','Fence',\n",
    "             'MiscFeature','Utilities','MasVnrType','GarageQual','MSZoning','Electrical','Exterior1st','PoolQC','Exterior2nd','KitchenQual','SaleType','Functional'):\n",
    "    housing[item]=housing[item].fillna('None')\n",
    "    housing_test[item]=housing_test[item].fillna('None')\n",
    "    \n",
    "# For any \"numerical\" variables (e.g. areas etc) if missing, set value to zero\n",
    "for item in ('LotArea','MasVnrArea','BsmtFinSF1','BsmtFinSF2','BsmtUnfSF','TotalBsmtSF',\n",
    "             '1stFlrSF','2ndFlrSF','LowQualFinSF','GrLivArea','BsmtFullBath','BsmtHalfBath',\n",
    "             'FullBath','HalfBath','BedroomAbvGr','KitchenAbvGr','TotRmsAbvGrd','Fireplaces',\n",
    "             'GarageYrBlt','GarageCars','GarageArea','WoodDeckSF','OpenPorchSF','EnclosedPorch',\n",
    "             '3SsnPorch','ScreenPorch','PoolArea','MiscVal','LotFrontage'):\n",
    "    housing[item]=housing[item].fillna(0)\n",
    "    housing_test[item]=housing_test[item].fillna(0)\n",
    "    \n",
    "# For the following categorical variables, \n",
    "# for col in ('MSZoning','Electrical','Exterior1st','PoolQC','Exterior2nd','KitchenQual','SaleType','Functional'):\n",
    "#     housing[col]=housing[col].fillna(housing[col].mode()[0])\n",
    "#     housing_test[col]=housing_test[col].fillna(housing[col].mode()[0])\n",
    "\n",
    "# Replace missing values with mean \n",
    "# housing['LotFrontage']=housing['LotFrontage'].fillna(housing['LotFrontage'].mean())\n",
    "# housing_test['LotFrontage']=housing_test['LotFrontage'].fillna(housing['LotFrontage'].mean())"
   ]
  },
  {
   "cell_type": "code",
   "execution_count": 34,
   "metadata": {},
   "outputs": [],
   "source": [
    "# Get numerical features\n",
    "housing_num = housing.select_dtypes(include=['int16', 'int32', 'int64', 'float16', 'float32', 'float64'])\n",
    "housing_test_num = housing_test[housing_num.columns]\n",
    "# housing_num.info()\n",
    "\n",
    "# Get categorical features\n",
    "housing_cat = housing.select_dtypes(include='object')\n",
    "housing_test_cat = housing_test[housing_cat.columns]\n",
    "# housing_cat.info()"
   ]
  },
  {
   "cell_type": "markdown",
   "metadata": {},
   "source": [
    "### 4.1 Identify suitable transformations"
   ]
  },
  {
   "cell_type": "markdown",
   "metadata": {},
   "source": [
    "#### 4.1.1 Transforming numerical features"
   ]
  },
  {
   "cell_type": "code",
   "execution_count": 35,
   "metadata": {},
   "outputs": [
    {
     "name": "stderr",
     "output_type": "stream",
     "text": [
      "C:\\Anaconda\\lib\\site-packages\\sklearn\\preprocessing\\data.py:645: DataConversionWarning: Data with input dtype int64, float64 were all converted to float64 by StandardScaler.\n",
      "  return self.partial_fit(X, y)\n",
      "C:\\Anaconda\\lib\\site-packages\\sklearn\\base.py:464: DataConversionWarning: Data with input dtype int64, float64 were all converted to float64 by StandardScaler.\n",
      "  return self.fit(X, **fit_params).transform(X)\n",
      "C:\\Anaconda\\lib\\site-packages\\ipykernel_launcher.py:6: DataConversionWarning: Data with input dtype int64, float64 were all converted to float64 by StandardScaler.\n",
      "  \n"
     ]
    },
    {
     "data": {
      "text/plain": [
       "((1460, 36), (1459, 36))"
      ]
     },
     "execution_count": 35,
     "metadata": {},
     "output_type": "execute_result"
    }
   ],
   "source": [
    "from sklearn.preprocessing import StandardScaler\n",
    "\n",
    "scaler = StandardScaler()\n",
    "X_train_scaled = scaler.fit_transform(housing_num)\n",
    "X_test_scaled = scaler.transform(housing_test_num)\n",
    "\n",
    "X_train_scaled.shape, X_test_scaled.shape"
   ]
  },
  {
   "cell_type": "markdown",
   "metadata": {},
   "source": [
    "#### 4.1.2 Decomposing categorical features"
   ]
  },
  {
   "cell_type": "code",
   "execution_count": 36,
   "metadata": {},
   "outputs": [
    {
     "data": {
      "text/plain": [
       "((1460, 267), (1459, 267))"
      ]
     },
     "execution_count": 36,
     "metadata": {},
     "output_type": "execute_result"
    }
   ],
   "source": [
    "from sklearn.preprocessing import OneHotEncoder\n",
    "\n",
    "# Encodes the categorical columns into binary (unique) features\n",
    "encoder = OneHotEncoder(handle_unknown='ignore')\n",
    "\n",
    "X_train_cat_encoded = encoder.fit_transform(housing_cat)\n",
    "X_test_cat_encoded = encoder.transform(housing_test_cat)\n",
    "\n",
    "# The method .toarray() converts the sparse array representation into a matrix\n",
    "X_train_cat_encoded = X_train_cat_encoded.toarray()\n",
    "X_test_cat_encoded = X_test_cat_encoded.toarray()\n",
    "\n",
    "X_train_cat_encoded.shape, X_test_cat_encoded.shape"
   ]
  },
  {
   "cell_type": "markdown",
   "metadata": {},
   "source": [
    "#### 4.1.3 Merging numerical and categorical features manually"
   ]
  },
  {
   "cell_type": "code",
   "execution_count": 37,
   "metadata": {},
   "outputs": [
    {
     "data": {
      "text/plain": [
       "((1460, 303), (1459, 303))"
      ]
     },
     "execution_count": 37,
     "metadata": {},
     "output_type": "execute_result"
    }
   ],
   "source": [
    "# Combine numerical and categorical feature matrices for train and test set\n",
    "X_train = np.c_[X_train_scaled, X_train_cat_encoded]\n",
    "X_test = np.c_[X_test_scaled, X_test_cat_encoded]\n",
    "\n",
    "X_train.shape, X_test.shape"
   ]
  },
  {
   "cell_type": "markdown",
   "metadata": {},
   "source": [
    "### 4.2 Create new features"
   ]
  },
  {
   "cell_type": "code",
   "execution_count": 38,
   "metadata": {},
   "outputs": [],
   "source": [
    "# Create new features (ratios and fractions) which are combinations of existing variables.\n",
    "# Equivaelnt \"full size\" bathrooms\n",
    "train_num_bathrooms = housing.FullBath + housing.BsmtFullBath + 0.5 * housing.HalfBath + 0.5 * housing.BsmtHalfBath\n",
    "test_num_bathrooms = housing_test.FullBath + housing_test.BsmtFullBath + 0.5 * housing_test.HalfBath + 0.5 * housing_test.BsmtHalfBath\n",
    "\n",
    "# Proportion of total rooms that are bedrooms (above grade and excluding bathrooms)\n",
    "train_proportion_bedrooms = housing.BedroomAbvGr / housing.TotRmsAbvGrd\n",
    "test_proportion_bedrooms = housing_test.BedroomAbvGr / housing_test.TotRmsAbvGrd\n",
    "\n",
    "# Total indoor SF area\n",
    "train_total_SF = housing.TotalBsmtSF + housing['1stFlrSF'] + housing['2ndFlrSF']\n",
    "test_total_SF = housing_test.TotalBsmtSF + housing_test['1stFlrSF'] + housing_test['2ndFlrSF']\n",
    "\n",
    "# Total above grade living SF area as a fraction of total lot area\n",
    "train_livingSF_to_lot = housing.GrLivArea / housing.LotArea\n",
    "test_livingSF_to_lot = housing_test.GrLivArea / housing_test.LotArea\n",
    "\n",
    "# Proportion of total rooms that are kitchen(s)\n",
    "train_proportion_kitchens = housing.KitchenAbvGr / housing.TotRmsAbvGrd\n",
    "test_proportion_kitchens = housing_test.KitchenAbvGr / housing_test.TotRmsAbvGrd\n",
    "\n",
    "# Total porch and/or deck SF area\n",
    "train_total_porch_SF = housing.WoodDeckSF + housing.OpenPorchSF + housing.EnclosedPorch + housing['3SsnPorch'] + housing.ScreenPorch\n",
    "test_total_porch_SF = housing_test.WoodDeckSF + housing_test.OpenPorchSF + housing_test.EnclosedPorch + housing_test['3SsnPorch'] + housing_test.ScreenPorch\n",
    "\n",
    "# Create boolean features that denote whether a house exhibits the characteristic being considered.\n",
    "# This is done for both the test and training set.\n",
    "\n",
    "# Does the house have have a 2nd floor?\n",
    "train_bool_2ndfloor = housing['2ndFlrSF'].apply(lambda x: 1 if x>0 else 0)\n",
    "test_bool_2ndfloor = housing_test['2ndFlrSF'].apply(lambda x: 1 if x>0 else 0)\n",
    "\n",
    "# Does the house have a pool?\n",
    "train_bool_pool = housing.PoolArea.apply(lambda x: 1 if x>0 else 0)\n",
    "test_bool_pool = housing_test.PoolArea.apply(lambda x: 1 if x>0 else 0)\n",
    "\n",
    "# Does the house have a porch?\n",
    "train_bool_porch = train_total_porch_SF.apply(lambda x: 1 if x>0 else 0)\n",
    "test_bool_porch = test_total_porch_SF.apply(lambda x: 1 if x>0 else 0)\n",
    "\n",
    "# Does the house have one or more fireplaces?\n",
    "train_bool_fireplace = housing.Fireplaces.apply(lambda x: 1 if x>0 else 0)\n",
    "test_bool_fireplace = housing_test.Fireplaces.apply(lambda x: 1 if x>0 else 0)\n",
    "\n",
    "# Does the house have a basement\n",
    "train_bool_basement = housing.TotalBsmtSF.apply(lambda x: 1 if x>0 else 0)\n",
    "test_bool_basement = housing_test.TotalBsmtSF.apply(lambda x: 1 if x>0 else 0)\n",
    "\n",
    "# Does the house have a garage?\n",
    "train_bool_garage = housing.GarageArea.apply(lambda x: 1 if x>0 else 0)\n",
    "test_bool_garage = housing_test.GarageArea.apply(lambda x: 1 if x>0 else 0)"
   ]
  },
  {
   "cell_type": "code",
   "execution_count": 39,
   "metadata": {},
   "outputs": [
    {
     "data": {
      "text/plain": [
       "((1460, 315), (1459, 315))"
      ]
     },
     "execution_count": 39,
     "metadata": {},
     "output_type": "execute_result"
    }
   ],
   "source": [
    "# Add new feature columns to train and test feature matrices \n",
    "X_train_final = np.c_[X_train, \n",
    "                      train_num_bathrooms,\n",
    "                      train_proportion_bedrooms,\n",
    "                      train_total_SF,\n",
    "                      train_livingSF_to_lot,\n",
    "                      train_proportion_kitchens,\n",
    "                      train_total_porch_SF,\n",
    "                      train_bool_2ndfloor,\n",
    "                      train_bool_pool,\n",
    "                      train_bool_porch,\n",
    "                      train_bool_fireplace,\n",
    "                      train_bool_basement,\n",
    "                      train_bool_garage]\n",
    "X_test_final = np.c_[X_test, \n",
    "                     test_num_bathrooms, \n",
    "                     test_proportion_bedrooms,\n",
    "                     test_total_SF,\n",
    "                     test_livingSF_to_lot,\n",
    "                     test_proportion_kitchens,\n",
    "                     test_total_porch_SF,\n",
    "                     test_bool_2ndfloor,\n",
    "                     test_bool_pool,\n",
    "                     test_bool_porch,\n",
    "                     test_bool_fireplace,\n",
    "                     test_bool_basement,\n",
    "                     test_bool_garage]\n",
    "\n",
    "X_train_final.shape, X_test_final.shape"
   ]
  },
  {
   "cell_type": "markdown",
   "metadata": {},
   "source": [
    "## 5. Evaluate three different regression algorithms"
   ]
  },
  {
   "cell_type": "markdown",
   "metadata": {},
   "source": [
    "### 5.1 Linear Regression"
   ]
  },
  {
   "cell_type": "code",
   "execution_count": 40,
   "metadata": {},
   "outputs": [],
   "source": [
    "from sklearn.linear_model import LinearRegression\n",
    "from sklearn.model_selection import GridSearchCV\n",
    "\n",
    "param_grid = {'fit_intercept': [True, False],\n",
    "             'normalize': [True, False]}\n",
    "\n",
    "lin_reg = LinearRegression()\n",
    "lin_search = GridSearchCV(lin_reg, param_grid, cv=10, \n",
    "                          scoring = 'neg_mean_squared_error')"
   ]
  },
  {
   "cell_type": "code",
   "execution_count": 41,
   "metadata": {},
   "outputs": [
    {
     "data": {
      "text/plain": [
       "GridSearchCV(cv=10, error_score='raise-deprecating',\n",
       "       estimator=LinearRegression(copy_X=True, fit_intercept=True, n_jobs=None,\n",
       "         normalize=False),\n",
       "       fit_params=None, iid='warn', n_jobs=None,\n",
       "       param_grid={'fit_intercept': [True, False], 'normalize': [True, False]},\n",
       "       pre_dispatch='2*n_jobs', refit=True, return_train_score='warn',\n",
       "       scoring='neg_mean_squared_error', verbose=0)"
      ]
     },
     "execution_count": 41,
     "metadata": {},
     "output_type": "execute_result"
    }
   ],
   "source": [
    "lin_search.fit(X_train_final, y_train)"
   ]
  },
  {
   "cell_type": "code",
   "execution_count": 42,
   "metadata": {},
   "outputs": [
    {
     "data": {
      "text/plain": [
       "5662666801.594317"
      ]
     },
     "execution_count": 42,
     "metadata": {},
     "output_type": "execute_result"
    }
   ],
   "source": [
    "np.sqrt(-lin_search.best_score_)"
   ]
  },
  {
   "cell_type": "code",
   "execution_count": 43,
   "metadata": {},
   "outputs": [
    {
     "data": {
      "text/plain": [
       "{'fit_intercept': True, 'normalize': False}"
      ]
     },
     "execution_count": 43,
     "metadata": {},
     "output_type": "execute_result"
    }
   ],
   "source": [
    "lin_search.best_params_"
   ]
  },
  {
   "cell_type": "code",
   "execution_count": 44,
   "metadata": {},
   "outputs": [],
   "source": [
    "from sklearn.metrics import mean_squared_error\n",
    "\n",
    "in_sample_mse = mean_squared_error(y_train, \n",
    "                           lin_search.predict(X_train_final))"
   ]
  },
  {
   "cell_type": "code",
   "execution_count": 45,
   "metadata": {},
   "outputs": [
    {
     "data": {
      "text/plain": [
       "in sample        2.026626e+04\n",
       "out of sample    5.662667e+09\n",
       "dtype: float64"
      ]
     },
     "execution_count": 45,
     "metadata": {},
     "output_type": "execute_result"
    }
   ],
   "source": [
    "lin_reg_rmse = pd.Series({'in sample': np.sqrt(in_sample_mse),\n",
    "                         'out of sample': np.sqrt(-lin_search.best_score_)})\n",
    "lin_reg_rmse"
   ]
  },
  {
   "cell_type": "markdown",
   "metadata": {},
   "source": [
    "The out-of-sample performance is significantly worse compared to the in-sample performace, hence the linear regression model does not generalise very well. The model's performance itself is not acceptable either."
   ]
  },
  {
   "cell_type": "markdown",
   "metadata": {},
   "source": [
    "### 5.2 RandomForrest"
   ]
  },
  {
   "cell_type": "code",
   "execution_count": 46,
   "metadata": {},
   "outputs": [
    {
     "data": {
      "text/plain": [
       "GridSearchCV(cv=10, error_score='raise-deprecating',\n",
       "       estimator=RandomForestRegressor(bootstrap=True, criterion='mse', max_depth=None,\n",
       "           max_features='auto', max_leaf_nodes=None,\n",
       "           min_impurity_decrease=0.0, min_impurity_split=None,\n",
       "           min_samples_leaf=1, min_samples_split=2,\n",
       "           min_weight_fraction_leaf=0.0, n_estimators='warn', n_jobs=None,\n",
       "           oob_score=False, random_state=None, verbose=0, warm_start=False),\n",
       "       fit_params=None, iid='warn', n_jobs=None,\n",
       "       param_grid=[{'n_estimators': [3, 10, 30], 'max_features': [2, 4, 6, 8]}, {'bootstrap': [False], 'n_estimators': [3, 10], 'max_features': [2, 3, 4]}],\n",
       "       pre_dispatch='2*n_jobs', refit=True, return_train_score='warn',\n",
       "       scoring='neg_mean_squared_error', verbose=0)"
      ]
     },
     "execution_count": 46,
     "metadata": {},
     "output_type": "execute_result"
    }
   ],
   "source": [
    "from sklearn.ensemble import RandomForestRegressor\n",
    "from sklearn.model_selection import GridSearchCV\n",
    "\n",
    "param_grid = [{'n_estimators': [3, 10, 30], 'max_features': [2,4,6,8]},\n",
    "              {'bootstrap': [False], 'n_estimators': [3, 10], 'max_features': [2, 3, 4]}\n",
    "             ]\n",
    "forest_reg = RandomForestRegressor()\n",
    "rfr_search = GridSearchCV(forest_reg, param_grid, cv=10, scoring='neg_mean_squared_error')\n",
    "\n",
    "rfr_search.fit(X_train_final, y_train)"
   ]
  },
  {
   "cell_type": "code",
   "execution_count": 47,
   "metadata": {},
   "outputs": [
    {
     "data": {
      "text/plain": [
       "{'max_features': 8, 'n_estimators': 30}"
      ]
     },
     "execution_count": 47,
     "metadata": {},
     "output_type": "execute_result"
    }
   ],
   "source": [
    "rfr_search.best_params_ "
   ]
  },
  {
   "cell_type": "code",
   "execution_count": 48,
   "metadata": {},
   "outputs": [],
   "source": [
    "rfr_in_sample_mse = mean_squared_error(y_train, \n",
    "                           rfr_search.predict(X_train_final))"
   ]
  },
  {
   "cell_type": "code",
   "execution_count": 49,
   "metadata": {},
   "outputs": [
    {
     "data": {
      "text/plain": [
       "32595.02730897675"
      ]
     },
     "execution_count": 49,
     "metadata": {},
     "output_type": "execute_result"
    }
   ],
   "source": [
    "# Out-of-sample\n",
    "np.sqrt(-rfr_search.best_score_)"
   ]
  },
  {
   "cell_type": "code",
   "execution_count": 50,
   "metadata": {},
   "outputs": [
    {
     "data": {
      "text/plain": [
       "in sample        12045.383538\n",
       "out of sample    32595.027309\n",
       "dtype: float64"
      ]
     },
     "execution_count": 50,
     "metadata": {},
     "output_type": "execute_result"
    }
   ],
   "source": [
    "rfr_reg_rmse = pd.Series({'in sample': np.sqrt(rfr_in_sample_mse),\n",
    "                         'out of sample': np.sqrt(-rfr_search.best_score_)})\n",
    "rfr_reg_rmse "
   ]
  },
  {
   "cell_type": "markdown",
   "metadata": {},
   "source": [
    "The RandomForrest Regressor outperforms the linear regression model. While RF generalises better than the linear model, it still does not exhibit a good enough generalisation since the out-of-sample performance is much worse than the in-sample performance."
   ]
  },
  {
   "cell_type": "markdown",
   "metadata": {},
   "source": [
    "### 5.3 Support Vector Machines"
   ]
  },
  {
   "cell_type": "markdown",
   "metadata": {},
   "source": [
    "#### 5.3.1 Support Vector Regression"
   ]
  },
  {
   "cell_type": "code",
   "execution_count": 51,
   "metadata": {},
   "outputs": [],
   "source": [
    "from sklearn.svm import LinearSVR\n",
    "from sklearn.metrics import mean_squared_error\n",
    "\n",
    "svr = LinearSVR(max_iter=100000)\n",
    "svr.fit(X_train_final, y_train)\n",
    "\n",
    "svr_in_sample_mse = mean_squared_error(y_train,\n",
    "                                      svr.predict(X_train_final))"
   ]
  },
  {
   "cell_type": "code",
   "execution_count": 52,
   "metadata": {},
   "outputs": [
    {
     "data": {
      "text/plain": [
       "in sample        47091.801893\n",
       "out of sample             NaN\n",
       "dtype: float64"
      ]
     },
     "execution_count": 52,
     "metadata": {},
     "output_type": "execute_result"
    }
   ],
   "source": [
    "svr_reg_rmse = pd.Series({'in sample': np.sqrt(svr_in_sample_mse),\n",
    "                         'out of sample': np.nan})\n",
    "svr_reg_rmse "
   ]
  },
  {
   "cell_type": "code",
   "execution_count": 53,
   "metadata": {},
   "outputs": [
    {
     "data": {
      "text/html": [
       "<div>\n",
       "<style scoped>\n",
       "    .dataframe tbody tr th:only-of-type {\n",
       "        vertical-align: middle;\n",
       "    }\n",
       "\n",
       "    .dataframe tbody tr th {\n",
       "        vertical-align: top;\n",
       "    }\n",
       "\n",
       "    .dataframe thead th {\n",
       "        text-align: right;\n",
       "    }\n",
       "</style>\n",
       "<table border=\"1\" class=\"dataframe\">\n",
       "  <thead>\n",
       "    <tr style=\"text-align: right;\">\n",
       "      <th></th>\n",
       "      <th>LinReg</th>\n",
       "      <th>RFR</th>\n",
       "      <th>SVR</th>\n",
       "    </tr>\n",
       "  </thead>\n",
       "  <tbody>\n",
       "    <tr>\n",
       "      <th>in sample</th>\n",
       "      <td>2.026626e+04</td>\n",
       "      <td>12045.383538</td>\n",
       "      <td>47091.801893</td>\n",
       "    </tr>\n",
       "    <tr>\n",
       "      <th>out of sample</th>\n",
       "      <td>5.662667e+09</td>\n",
       "      <td>32595.027309</td>\n",
       "      <td>NaN</td>\n",
       "    </tr>\n",
       "  </tbody>\n",
       "</table>\n",
       "</div>"
      ],
      "text/plain": [
       "                     LinReg           RFR           SVR\n",
       "in sample      2.026626e+04  12045.383538  47091.801893\n",
       "out of sample  5.662667e+09  32595.027309           NaN"
      ]
     },
     "execution_count": 53,
     "metadata": {},
     "output_type": "execute_result"
    }
   ],
   "source": [
    "rmse = pd.DataFrame({'LinReg': lin_reg_rmse,\n",
    "                    'RFR': rfr_reg_rmse,\n",
    "                    'SVR': svr_reg_rmse}\n",
    "                   )\n",
    "rmse"
   ]
  },
  {
   "cell_type": "markdown",
   "metadata": {},
   "source": [
    "SVR's in-sample performance indicates sever overfitting."
   ]
  },
  {
   "cell_type": "markdown",
   "metadata": {},
   "source": [
    "#### 5.3.2 Grid Search"
   ]
  },
  {
   "cell_type": "code",
   "execution_count": 54,
   "metadata": {},
   "outputs": [
    {
     "data": {
      "text/plain": [
       "GridSearchCV(cv=10, error_score='raise-deprecating',\n",
       "       estimator=SVR(C=100, cache_size=200, coef0=0.0, degree=3, epsilon=0.1,\n",
       "  gamma='auto_deprecated', kernel='rbf', max_iter=100000, shrinking=True,\n",
       "  tol=0.001, verbose=False),\n",
       "       fit_params=None, iid='warn', n_jobs=None,\n",
       "       param_grid=[{'kernel': ['rbf'], 'gamma': [0.1], 'epsilon': [0.1]}, {'kernel': ['linear'], 'gamma': ['auto']}, {'kernel': ['poly'], 'gamma': ['auto'], 'degree': [3], 'epsilon': [0.1]}],\n",
       "       pre_dispatch='2*n_jobs', refit=True, return_train_score='warn',\n",
       "       scoring='neg_mean_squared_error', verbose=0)"
      ]
     },
     "execution_count": 54,
     "metadata": {},
     "output_type": "execute_result"
    }
   ],
   "source": [
    "X_test_final = np.nan_to_num(X_test_final)\n",
    "\n",
    "from sklearn.svm import SVR\n",
    "from sklearn.model_selection import GridSearchCV\n",
    "\n",
    "# The following parameter grid has been adapted from \n",
    "# https://scikit-learn.org/stable/auto_examples/svm/plot_svm_regression.html\n",
    "param_grid = [dict(kernel=['rbf'], gamma=[0.1], \n",
    "               epsilon=[0.1]),\n",
    "              dict(kernel=['linear'], gamma=['auto']),\n",
    "              dict(kernel=['poly'], gamma=['auto'], degree=[3], \n",
    "                   epsilon=[.1])\n",
    "             ]\n",
    "\n",
    "from sklearn.preprocessing import MinMaxScaler\n",
    "scaler = MinMaxScaler()\n",
    "X_train_final_mm = scaler.fit_transform(X_train_final)\n",
    "X_test_final_mm = scaler.transform(X_test_final)\n",
    "\n",
    "sv_reg = SVR(max_iter=100000, C=100)\n",
    "\n",
    "svr_search = GridSearchCV(sv_reg, param_grid, \n",
    "                          cv=10, scoring='neg_mean_squared_error')\n",
    "\n",
    "svr_search.fit(X_train_final_mm, y_train)"
   ]
  },
  {
   "cell_type": "code",
   "execution_count": 55,
   "metadata": {},
   "outputs": [
    {
     "data": {
      "text/plain": [
       "{'gamma': 'auto', 'kernel': 'linear'}"
      ]
     },
     "execution_count": 55,
     "metadata": {},
     "output_type": "execute_result"
    }
   ],
   "source": [
    "svr_search.best_params_"
   ]
  },
  {
   "cell_type": "code",
   "execution_count": 56,
   "metadata": {},
   "outputs": [
    {
     "data": {
      "text/plain": [
       "48597.9999035758"
      ]
     },
     "execution_count": 56,
     "metadata": {},
     "output_type": "execute_result"
    }
   ],
   "source": [
    "# Out-of-sample\n",
    "np.sqrt(-svr_search.best_score_)"
   ]
  },
  {
   "cell_type": "code",
   "execution_count": 57,
   "metadata": {},
   "outputs": [],
   "source": [
    "svr_in_sample_mse = mean_squared_error(y_train, \n",
    "                           svr_search.predict(X_train_final))"
   ]
  },
  {
   "cell_type": "code",
   "execution_count": 58,
   "metadata": {},
   "outputs": [
    {
     "data": {
      "text/plain": [
       "in sample        1.276237e+07\n",
       "out of sample    4.859800e+04\n",
       "dtype: float64"
      ]
     },
     "execution_count": 58,
     "metadata": {},
     "output_type": "execute_result"
    }
   ],
   "source": [
    "svr_reg_rmse = pd.Series({'in sample': np.sqrt(svr_in_sample_mse),\n",
    "                         'out of sample': np.sqrt(-svr_search.best_score_)})\n",
    "svr_reg_rmse "
   ]
  },
  {
   "cell_type": "code",
   "execution_count": 59,
   "metadata": {},
   "outputs": [
    {
     "data": {
      "text/html": [
       "<div>\n",
       "<style scoped>\n",
       "    .dataframe tbody tr th:only-of-type {\n",
       "        vertical-align: middle;\n",
       "    }\n",
       "\n",
       "    .dataframe tbody tr th {\n",
       "        vertical-align: top;\n",
       "    }\n",
       "\n",
       "    .dataframe thead th {\n",
       "        text-align: right;\n",
       "    }\n",
       "</style>\n",
       "<table border=\"1\" class=\"dataframe\">\n",
       "  <thead>\n",
       "    <tr style=\"text-align: right;\">\n",
       "      <th></th>\n",
       "      <th>LinReg</th>\n",
       "      <th>RFR</th>\n",
       "      <th>SVR</th>\n",
       "    </tr>\n",
       "  </thead>\n",
       "  <tbody>\n",
       "    <tr>\n",
       "      <th>in sample</th>\n",
       "      <td>2.026626e+04</td>\n",
       "      <td>12045.383538</td>\n",
       "      <td>1.276237e+07</td>\n",
       "    </tr>\n",
       "    <tr>\n",
       "      <th>out of sample</th>\n",
       "      <td>5.662667e+09</td>\n",
       "      <td>32595.027309</td>\n",
       "      <td>4.859800e+04</td>\n",
       "    </tr>\n",
       "  </tbody>\n",
       "</table>\n",
       "</div>"
      ],
      "text/plain": [
       "                     LinReg           RFR           SVR\n",
       "in sample      2.026626e+04  12045.383538  1.276237e+07\n",
       "out of sample  5.662667e+09  32595.027309  4.859800e+04"
      ]
     },
     "execution_count": 59,
     "metadata": {},
     "output_type": "execute_result"
    }
   ],
   "source": [
    "rmse = pd.DataFrame({'LinReg': lin_reg_rmse,\n",
    "                    'RFR': rfr_reg_rmse,\n",
    "                    'SVR': svr_reg_rmse}\n",
    "                   )\n",
    "rmse"
   ]
  },
  {
   "cell_type": "markdown",
   "metadata": {},
   "source": [
    "It is clear that the RandomForrest Regressor has the best fitting of the three options. It outperforms both Linear Regression and the Support Vector Regressor and hence will be used for the purposes of prediction."
   ]
  },
  {
   "cell_type": "markdown",
   "metadata": {},
   "source": [
    "## 6. Submit predictions to Kaggle"
   ]
  },
  {
   "cell_type": "code",
   "execution_count": 60,
   "metadata": {},
   "outputs": [
    {
     "data": {
      "text/plain": [
       "Id\n",
       "1461    124303.600000\n",
       "1462    147443.333333\n",
       "1463    176201.166667\n",
       "1464    182556.666667\n",
       "1465    189180.000000\n",
       "Name: SalePrice, dtype: float64"
      ]
     },
     "execution_count": 60,
     "metadata": {},
     "output_type": "execute_result"
    }
   ],
   "source": [
    "y_test = pd.Series(rfr_search.predict(X_test_final),\n",
    "                   index = housing_test.index,\n",
    "                  name='SalePrice')\n",
    "y_test.head()"
   ]
  },
  {
   "cell_type": "code",
   "execution_count": 61,
   "metadata": {},
   "outputs": [],
   "source": [
    "y_test.to_csv('prediction.csv',\n",
    "             header=True)"
   ]
  },
  {
   "attachments": {
    "image.png": {
     "image/png": "[encoded data removed]"
    }
   },
   "cell_type": "markdown",
   "metadata": {},
   "source": [
    "![image.png](attachment:image.png)"
   ]
  }
 ],
 "metadata": {
  "kernelspec": {
   "display_name": "Python 3",
   "language": "python",
   "name": "python3"
  },
  "language_info": {
   "codemirror_mode": {
    "name": "ipython",
    "version": 3
   },
   "file_extension": ".py",
   "mimetype": "text/x-python",
   "name": "python",
   "nbconvert_exporter": "python",
   "pygments_lexer": "ipython3",
   "version": "3.7.0"
  }
 },
 "nbformat": 4,
 "nbformat_minor": 2
}
