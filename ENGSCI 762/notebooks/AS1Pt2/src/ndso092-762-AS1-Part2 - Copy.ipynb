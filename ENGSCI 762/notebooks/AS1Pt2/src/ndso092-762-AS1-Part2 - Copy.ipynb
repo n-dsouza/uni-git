{
 "cells": [
  {
   "cell_type": "markdown",
   "metadata": {},
   "source": [
    "# ENGSCI 762 - AS1 - Part I\n",
    "## Noel D'Souza - ndso092 - 449609993"
   ]
  },
  {
   "cell_type": "markdown",
   "metadata": {},
   "source": [
    "## 4. Prepare the data"
   ]
  },
  {
   "cell_type": "code",
   "execution_count": 9,
   "metadata": {},
   "outputs": [
    {
     "name": "stdout",
     "output_type": "stream",
     "text": [
      "The autoreload extension is already loaded. To reload it, use:\n",
      "  %reload_ext autoreload\n"
     ]
    }
   ],
   "source": [
    "import numpy as np \n",
    "import pandas as pd\n",
    "import matplotlib.pyplot as plt\n",
    "import seaborn as sns\n",
    "sns.set()\n",
    "\n",
    "%matplotlib inline\n",
    "%load_ext autoreload\n",
    "%autoreload 2"
   ]
  },
  {
   "cell_type": "code",
   "execution_count": 10,
   "metadata": {},
   "outputs": [],
   "source": [
    "# Load in train and test data\n",
    "df = pd.read_csv('../data/train.csv', index_col=0)\n",
    "df1 = pd.read_csv('../data/test.csv', index_col=0)"
   ]
  },
  {
   "cell_type": "code",
   "execution_count": 11,
   "metadata": {},
   "outputs": [],
   "source": [
    "# # Removing outliers found from looking at visualisations and contributions from Kaggle Discussions\n",
    "# df.drop(df[(df['OverallQual']<5) & (df['SalePrice']>200000)].index, inplace=True)\n",
    "# df.drop(df[(df['GrLivArea']>4000) & (df['SalePrice']<300000)].index, inplace=True)\n",
    "# df.reset_index(drop=True, inplace=True)"
   ]
  },
  {
   "cell_type": "code",
   "execution_count": 12,
   "metadata": {},
   "outputs": [],
   "source": [
    "# Format relevant dataframes\n",
    "housing = df.drop('SalePrice', axis=1)\n",
    "y_train = df['SalePrice'].copy()\n",
    "\n",
    "housing_test = df1"
   ]
  },
  {
   "cell_type": "code",
   "execution_count": 13,
   "metadata": {},
   "outputs": [],
   "source": [
    "# Edit missing values to mean that there is none for relevant categories\n",
    "for col in ('Alley','Utilities','MasVnrType','BsmtQual','BsmtCond','BsmtExposure','BsmtFinType1',\n",
    "            'BsmtFinType2','FireplaceQu','GarageType','GarageFinish','GarageQual','GarageCond',\n",
    "           'Fence','MiscFeature'):\n",
    "    housing[col]=housing[col].fillna('None')\n",
    "    housing_test[col]=housing_test[col].fillna('None')"
   ]
  },
  {
   "cell_type": "code",
   "execution_count": 14,
   "metadata": {},
   "outputs": [],
   "source": [
    "# Missing values not available, so replaced with mode\n",
    "for col in ('MSZoning','Electrical','Exterior1st','PoolQC','Exterior2nd','KitchenQual','SaleType','Functional'):\n",
    "    housing[col]=housing[col].fillna(housing[col].mode()[0])\n",
    "    housing_test[col]=housing_test[col].fillna(housing[col].mode()[0])"
   ]
  },
  {
   "cell_type": "code",
   "execution_count": 15,
   "metadata": {},
   "outputs": [],
   "source": [
    "# Replace missing values with 0 (indicating this is none)\n",
    "for col in ('MasVnrArea','BsmtFinSF1','BsmtFinSF2','BsmtUnfSF','TotalBsmtSF','BsmtFullBath','BsmtHalfBath','GarageYrBlt','GarageCars','GarageArea'):\n",
    "    housing[col]=housing[col].fillna(0)\n",
    "    housing_test[col]=housing_test[col].fillna(0)"
   ]
  },
  {
   "cell_type": "code",
   "execution_count": 16,
   "metadata": {},
   "outputs": [],
   "source": [
    "# Replace missing values with mean \n",
    "housing['LotFrontage']=housing['LotFrontage'].fillna(housing['LotFrontage'].mean())\n",
    "housing_test['LotFrontage']=housing_test['LotFrontage'].fillna(housing['LotFrontage'].mean())"
   ]
  },
  {
   "cell_type": "code",
   "execution_count": 17,
   "metadata": {},
   "outputs": [],
   "source": [
    "# Seperating data types that could be numeric\n",
    "numeric_dtypes = ['int16', 'int32', 'int64', 'float16', 'float32', 'float64']"
   ]
  },
  {
   "cell_type": "code",
   "execution_count": 18,
   "metadata": {},
   "outputs": [],
   "source": [
    "# Get numerical features from the relevant columns\n",
    "housing_num = housing.select_dtypes(include=numeric_dtypes)\n",
    "housing_test_num = housing_test[housing_num.columns]\n",
    "# housing_num.info()"
   ]
  },
  {
   "cell_type": "code",
   "execution_count": 19,
   "metadata": {},
   "outputs": [],
   "source": [
    "# Get categorical features from the relevant columns\n",
    "housing_cat = housing.select_dtypes(include='object')\n",
    "housing_test_cat = housing_test[housing_cat.columns]"
   ]
  },
  {
   "cell_type": "code",
   "execution_count": null,
   "metadata": {},
   "outputs": [],
   "source": []
  },
  {
   "cell_type": "code",
   "execution_count": null,
   "metadata": {},
   "outputs": [],
   "source": []
  },
  {
   "cell_type": "code",
   "execution_count": null,
   "metadata": {},
   "outputs": [],
   "source": []
  },
  {
   "cell_type": "code",
   "execution_count": 20,
   "metadata": {},
   "outputs": [
    {
     "name": "stderr",
     "output_type": "stream",
     "text": [
      "C:\\Anaconda\\lib\\site-packages\\sklearn\\preprocessing\\data.py:645: DataConversionWarning: Data with input dtype int64, float64 were all converted to float64 by StandardScaler.\n",
      "  return self.partial_fit(X, y)\n",
      "C:\\Anaconda\\lib\\site-packages\\sklearn\\base.py:464: DataConversionWarning: Data with input dtype int64, float64 were all converted to float64 by StandardScaler.\n",
      "  return self.fit(X, **fit_params).transform(X)\n",
      "C:\\Anaconda\\lib\\site-packages\\ipykernel_launcher.py:5: DataConversionWarning: Data with input dtype int64, float64 were all converted to float64 by StandardScaler.\n",
      "  \"\"\"\n"
     ]
    },
    {
     "data": {
      "text/plain": [
       "((1460, 36), (1459, 36))"
      ]
     },
     "execution_count": 20,
     "metadata": {},
     "output_type": "execute_result"
    }
   ],
   "source": [
    "from sklearn.preprocessing import StandardScaler\n",
    "\n",
    "scaler = StandardScaler()\n",
    "X_train_scaled = scaler.fit_transform(housing_num)\n",
    "X_test_scaled = scaler.transform(housing_test_num)\n",
    "\n",
    "X_train_scaled.shape, X_test_scaled.shape"
   ]
  },
  {
   "cell_type": "code",
   "execution_count": 21,
   "metadata": {},
   "outputs": [
    {
     "data": {
      "text/plain": [
       "((1460, 265), (1459, 265))"
      ]
     },
     "execution_count": 21,
     "metadata": {},
     "output_type": "execute_result"
    }
   ],
   "source": [
    "from sklearn.preprocessing import OneHotEncoder\n",
    "\n",
    "# Encoding to derive the column categories based on the unique values\n",
    "encoder = OneHotEncoder(handle_unknown='ignore')\n",
    "\n",
    "X_train_cat_encoded = encoder.fit_transform(housing_cat)\n",
    "X_test_cat_encoded = encoder.transform(housing_test_cat)\n",
    "\n",
    "# The method .toarray() converts the sparse array representation into a matrix\n",
    "X_train_cat_encoded = X_train_cat_encoded.toarray()\n",
    "X_test_cat_encoded = X_test_cat_encoded.toarray()\n",
    "\n",
    "X_train_cat_encoded.shape, X_test_cat_encoded.shape"
   ]
  },
  {
   "cell_type": "code",
   "execution_count": 22,
   "metadata": {},
   "outputs": [
    {
     "data": {
      "text/plain": [
       "((1460, 301), (1459, 301))"
      ]
     },
     "execution_count": 22,
     "metadata": {},
     "output_type": "execute_result"
    }
   ],
   "source": [
    "# Combine numerical and categorical feature matrices for train and test set\n",
    "X_train = np.c_[X_train_scaled, X_train_cat_encoded]\n",
    "X_test = np.c_[X_test_scaled, X_test_cat_encoded]\n",
    "\n",
    "X_train.shape, X_test.shape"
   ]
  },
  {
   "cell_type": "code",
   "execution_count": 23,
   "metadata": {},
   "outputs": [],
   "source": [
    "# Adding for features for both Train and Test data\n",
    "\n",
    "#ratio of the ground living area and the total lot area\n",
    "train_livingarea_lot_ratio = housing.GrLivArea / housing.LotArea\n",
    "test_livingarea_lot_ratio = housing_test.GrLivArea / housing_test.LotArea\n",
    "\n",
    "#number of bedrooms per rooms (excluding bathrooms)\n",
    "train_bedrooms_per_room = housing.BedroomAbvGr / housing.TotRmsAbvGrd\n",
    "test_bedrooms_per_room = housing_test.BedroomAbvGr / housing_test.TotRmsAbvGrd\n",
    "\n",
    "#total bathrooms\n",
    "train_bathrooms = housing.FullBath + (0.5 * housing.HalfBath) + housing.BsmtFullBath + (0.5 * housing.BsmtHalfBath)\n",
    "test_bathrooms = housing_test.FullBath + (0.5 * housing_test.HalfBath) + housing_test.BsmtFullBath + (0.5 * housing_test.BsmtHalfBath)\n",
    "\n",
    "#total SF indoors area\n",
    "train_totalSF=housing.TotalBsmtSF + housing['1stFlrSF'] + housing['2ndFlrSF']\n",
    "test_totalSF=housing_test.TotalBsmtSF + housing_test['1stFlrSF'] + housing_test['2ndFlrSF']\n",
    "\n",
    "#total porch area\n",
    "train_total_porch_sf = (housing.OpenPorchSF + housing['3SsnPorch'] + housing.EnclosedPorch + housing.ScreenPorch + housing.WoodDeckSF)\n",
    "test_total_porch_sf = (housing_test.OpenPorchSF + housing_test['3SsnPorch'] + housing_test.EnclosedPorch + housing_test.ScreenPorch + housing_test.WoodDeckSF)\n",
    "# indicating if a house has certain aspects (Train data)\n",
    "# e.g. if PoolArea = 0 , Then HasPool = 0 too\n",
    "\n",
    "train_haspool = housing['PoolArea'].apply(lambda x: 1 if x > 0 else 0)\n",
    "train_has2ndfloor = housing['2ndFlrSF'].apply(lambda x: 1 if x > 0 else 0)\n",
    "train_hasgarage = housing['GarageArea'].apply(lambda x: 1 if x > 0 else 0)\n",
    "train_hasbsmt = housing['TotalBsmtSF'].apply(lambda x: 1 if x > 0 else 0)\n",
    "train_hasfireplace = housing['Fireplaces'].apply(lambda x: 1 if x > 0 else 0)\n",
    "# indicating if a house has certain aspects (Test data)\n",
    "# e.g. if PoolArea = 0 , Then HasPool = 0 too\n",
    "\n",
    "test_haspool = housing_test['PoolArea'].apply(lambda x: 1 if x > 0 else 0)\n",
    "test_has2ndfloor = housing_test['2ndFlrSF'].apply(lambda x: 1 if x > 0 else 0)\n",
    "test_hasgarage = housing_test['GarageArea'].apply(lambda x: 1 if x > 0 else 0)\n",
    "test_hasbsmt = housing_test['TotalBsmtSF'].apply(lambda x: 1 if x > 0 else 0)\n",
    "test_hasfireplace = housing_test['Fireplaces'].apply(lambda x: 1 if x > 0 else 0)"
   ]
  },
  {
   "cell_type": "code",
   "execution_count": 24,
   "metadata": {},
   "outputs": [
    {
     "data": {
      "text/plain": [
       "((1460, 311), (1459, 311))"
      ]
     },
     "execution_count": 24,
     "metadata": {},
     "output_type": "execute_result"
    }
   ],
   "source": [
    "# Add all new feature columns to train and test feature matrices \n",
    "X_train_final = np.c_[X_train, \n",
    "                    train_livingarea_lot_ratio, \n",
    "                    train_bedrooms_per_room,\n",
    "                    train_bathrooms,\n",
    "                    train_totalSF,\n",
    "                    train_total_porch_sf,\n",
    "                    train_haspool,\n",
    "                    train_has2ndfloor,\n",
    "                    train_hasgarage,\n",
    "                    train_hasbsmt,\n",
    "                    train_hasfireplace]\n",
    "X_test_final = np.c_[X_test, \n",
    "                    test_livingarea_lot_ratio, \n",
    "                    test_bedrooms_per_room,\n",
    "                    test_bathrooms,\n",
    "                    test_totalSF,\n",
    "                    test_total_porch_sf,\n",
    "                    test_haspool,\n",
    "                    test_has2ndfloor,\n",
    "                    test_hasgarage,\n",
    "                    test_hasbsmt,\n",
    "                    test_hasfireplace]\n",
    "\n",
    "X_train_final.shape, X_test_final.shape"
   ]
  },
  {
   "cell_type": "code",
   "execution_count": null,
   "metadata": {},
   "outputs": [],
   "source": []
  },
  {
   "cell_type": "code",
   "execution_count": null,
   "metadata": {},
   "outputs": [],
   "source": []
  },
  {
   "cell_type": "markdown",
   "metadata": {},
   "source": [
    "# LR"
   ]
  },
  {
   "cell_type": "code",
   "execution_count": 12,
   "metadata": {},
   "outputs": [],
   "source": [
    "from sklearn.linear_model import LinearRegression\n",
    "from sklearn.model_selection import GridSearchCV\n",
    "\n",
    "# Infer param_grid from \n",
    "# https://scikit-learn.org/stable/modules/generated/sklearn.linear_model.LinearRegression.html\n",
    "# However, for simple linear regression this is kind of over-the-top.\n",
    "param_grid = {'fit_intercept': [True, False],\n",
    "             'normalize': [True, False]}\n",
    "\n",
    "lin_reg = LinearRegression()\n",
    "lin_search = GridSearchCV(lin_reg, param_grid, cv=10, \n",
    "                          scoring = 'neg_mean_squared_error')"
   ]
  },
  {
   "cell_type": "code",
   "execution_count": 13,
   "metadata": {},
   "outputs": [
    {
     "name": "stderr",
     "output_type": "stream",
     "text": [
      "C:\\Anaconda\\lib\\site-packages\\sklearn\\model_selection\\_search.py:841: DeprecationWarning: The default of the `iid` parameter will change from True to False in version 0.22 and will be removed in 0.24. This will change numeric results when test-set sizes are unequal.\n",
      "  DeprecationWarning)\n"
     ]
    },
    {
     "data": {
      "text/plain": [
       "GridSearchCV(cv=10, error_score='raise-deprecating',\n",
       "       estimator=LinearRegression(copy_X=True, fit_intercept=True, n_jobs=None,\n",
       "         normalize=False),\n",
       "       fit_params=None, iid='warn', n_jobs=None,\n",
       "       param_grid={'fit_intercept': [True, False], 'normalize': [True, False]},\n",
       "       pre_dispatch='2*n_jobs', refit=True, return_train_score='warn',\n",
       "       scoring='neg_mean_squared_error', verbose=0)"
      ]
     },
     "execution_count": 13,
     "metadata": {},
     "output_type": "execute_result"
    }
   ],
   "source": [
    "lin_search.fit(X_train_final, y_train)"
   ]
  },
  {
   "cell_type": "code",
   "execution_count": 14,
   "metadata": {},
   "outputs": [
    {
     "data": {
      "text/plain": [
       "25072860313.592373"
      ]
     },
     "execution_count": 14,
     "metadata": {},
     "output_type": "execute_result"
    }
   ],
   "source": [
    "np.sqrt(-lin_search.best_score_)"
   ]
  },
  {
   "cell_type": "code",
   "execution_count": 15,
   "metadata": {},
   "outputs": [
    {
     "data": {
      "text/plain": [
       "{'fit_intercept': True, 'normalize': False}"
      ]
     },
     "execution_count": 15,
     "metadata": {},
     "output_type": "execute_result"
    }
   ],
   "source": [
    "lin_search.best_params_"
   ]
  },
  {
   "cell_type": "code",
   "execution_count": 16,
   "metadata": {},
   "outputs": [],
   "source": [
    "from sklearn.metrics import mean_squared_error\n",
    "\n",
    "in_sample_mse = mean_squared_error(y_train, \n",
    "                           lin_search.predict(X_train_final))"
   ]
  },
  {
   "cell_type": "code",
   "execution_count": 17,
   "metadata": {},
   "outputs": [
    {
     "data": {
      "text/plain": [
       "in sample        1.889630e+04\n",
       "out of sample    2.507286e+10\n",
       "dtype: float64"
      ]
     },
     "execution_count": 17,
     "metadata": {},
     "output_type": "execute_result"
    }
   ],
   "source": [
    "lin_reg_rmse = pd.Series({'in sample': np.sqrt(in_sample_mse),\n",
    "                         'out of sample': np.sqrt(-lin_search.best_score_)})\n",
    "lin_reg_rmse # The linear regression model is severly overfitted."
   ]
  },
  {
   "cell_type": "markdown",
   "metadata": {},
   "source": [
    "# RF"
   ]
  },
  {
   "cell_type": "code",
   "execution_count": 18,
   "metadata": {},
   "outputs": [
    {
     "name": "stderr",
     "output_type": "stream",
     "text": [
      "C:\\Anaconda\\lib\\site-packages\\sklearn\\model_selection\\_search.py:841: DeprecationWarning: The default of the `iid` parameter will change from True to False in version 0.22 and will be removed in 0.24. This will change numeric results when test-set sizes are unequal.\n",
      "  DeprecationWarning)\n"
     ]
    },
    {
     "data": {
      "text/plain": [
       "GridSearchCV(cv=10, error_score='raise-deprecating',\n",
       "       estimator=RandomForestRegressor(bootstrap=True, criterion='mse', max_depth=None,\n",
       "           max_features='auto', max_leaf_nodes=None,\n",
       "           min_impurity_decrease=0.0, min_impurity_split=None,\n",
       "           min_samples_leaf=1, min_samples_split=2,\n",
       "           min_weight_fraction_leaf=0.0, n_estimators='warn', n_jobs=None,\n",
       "           oob_score=False, random_state=None, verbose=0, warm_start=False),\n",
       "       fit_params=None, iid='warn', n_jobs=None,\n",
       "       param_grid=[{'n_estimators': [3, 10, 30], 'max_features': [2, 4, 6, 8]}, {'bootstrap': [False], 'n_estimators': [3, 10], 'max_features': [2, 3, 4]}],\n",
       "       pre_dispatch='2*n_jobs', refit=True, return_train_score='warn',\n",
       "       scoring='neg_mean_squared_error', verbose=0)"
      ]
     },
     "execution_count": 18,
     "metadata": {},
     "output_type": "execute_result"
    }
   ],
   "source": [
    "from sklearn.ensemble import RandomForestRegressor\n",
    "from sklearn.model_selection import GridSearchCV\n",
    "\n",
    "param_grid = [{'n_estimators': [3, 10, 30], 'max_features': [2, 4, 6, 8]},\n",
    "              {'bootstrap': [False], 'n_estimators': [3, 10], 'max_features': [2, 3, 4]}\n",
    "             ]\n",
    "forest_reg = RandomForestRegressor()\n",
    "rfr_search = GridSearchCV(forest_reg, param_grid, cv=10, scoring='neg_mean_squared_error')\n",
    "\n",
    "rfr_search.fit(X_train_final, y_train)"
   ]
  },
  {
   "cell_type": "code",
   "execution_count": 19,
   "metadata": {},
   "outputs": [
    {
     "data": {
      "text/plain": [
       "{'max_features': 8, 'n_estimators': 30}"
      ]
     },
     "execution_count": 19,
     "metadata": {},
     "output_type": "execute_result"
    }
   ],
   "source": [
    "# At least one of the best performing parameters is at the boundary of the param_grid,\n",
    "# therefore you should increase the respective search region\n",
    "rfr_search.best_params_ "
   ]
  },
  {
   "cell_type": "code",
   "execution_count": 20,
   "metadata": {},
   "outputs": [],
   "source": [
    "rfr_in_sample_mse = mean_squared_error(y_train, \n",
    "                           rfr_search.predict(X_train_final))\n"
   ]
  },
  {
   "cell_type": "code",
   "execution_count": 28,
   "metadata": {},
   "outputs": [
    {
     "ename": "NameError",
     "evalue": "name 'rfr_search' is not defined",
     "output_type": "error",
     "traceback": [
      "\u001b[1;31m---------------------------------------------------------------------------\u001b[0m",
      "\u001b[1;31mNameError\u001b[0m                                 Traceback (most recent call last)",
      "\u001b[1;32m<ipython-input-28-adbba3450b81>\u001b[0m in \u001b[0;36m<module>\u001b[1;34m()\u001b[0m\n\u001b[0;32m      1\u001b[0m \u001b[1;31m# Out-of-sample\u001b[0m\u001b[1;33m\u001b[0m\u001b[1;33m\u001b[0m\u001b[0m\n\u001b[1;32m----> 2\u001b[1;33m \u001b[0mnp\u001b[0m\u001b[1;33m.\u001b[0m\u001b[0msqrt\u001b[0m\u001b[1;33m(\u001b[0m\u001b[1;33m-\u001b[0m\u001b[0mrfr_search\u001b[0m\u001b[1;33m.\u001b[0m\u001b[0mbest_score_\u001b[0m\u001b[1;33m)\u001b[0m\u001b[1;33m\u001b[0m\u001b[0m\n\u001b[0m",
      "\u001b[1;31mNameError\u001b[0m: name 'rfr_search' is not defined"
     ]
    }
   ],
   "source": [
    "# Out-of-sample\n",
    "np.sqrt(-rfr_search.best_score_)"
   ]
  },
  {
   "cell_type": "code",
   "execution_count": 22,
   "metadata": {},
   "outputs": [
    {
     "data": {
      "text/plain": [
       "in sample        11758.493637\n",
       "out of sample    30272.930026\n",
       "dtype: float64"
      ]
     },
     "execution_count": 22,
     "metadata": {},
     "output_type": "execute_result"
    }
   ],
   "source": [
    "rfr_reg_rmse = pd.Series({'in sample': np.sqrt(rfr_in_sample_mse),\n",
    "                         'out of sample': np.sqrt(-rfr_search.best_score_)})\n",
    "rfr_reg_rmse "
   ]
  },
  {
   "cell_type": "markdown",
   "metadata": {},
   "source": [
    "# SVR"
   ]
  },
  {
   "cell_type": "code",
   "execution_count": 25,
   "metadata": {},
   "outputs": [],
   "source": [
    "from sklearn.svm import LinearSVR\n",
    "from sklearn.metrics import mean_squared_error\n",
    "\n",
    "svr = LinearSVR(max_iter=100000)\n",
    "svr.fit(X_train_final, y_train)\n",
    "\n",
    "svr_in_sample_mse = mean_squared_error(y_train,\n",
    "                                      svr.predict(X_train_final))"
   ]
  },
  {
   "cell_type": "code",
   "execution_count": 26,
   "metadata": {},
   "outputs": [
    {
     "data": {
      "text/plain": [
       "in sample        47045.653397\n",
       "out of sample             NaN\n",
       "dtype: float64"
      ]
     },
     "execution_count": 26,
     "metadata": {},
     "output_type": "execute_result"
    }
   ],
   "source": [
    "svr_reg_rmse = pd.Series({'in sample': np.sqrt(svr_in_sample_mse),\n",
    "                         'out of sample': np.nan})\n",
    "svr_reg_rmse "
   ]
  },
  {
   "cell_type": "code",
   "execution_count": 25,
   "metadata": {},
   "outputs": [
    {
     "data": {
      "text/html": [
       "<div>\n",
       "<style scoped>\n",
       "    .dataframe tbody tr th:only-of-type {\n",
       "        vertical-align: middle;\n",
       "    }\n",
       "\n",
       "    .dataframe tbody tr th {\n",
       "        vertical-align: top;\n",
       "    }\n",
       "\n",
       "    .dataframe thead th {\n",
       "        text-align: right;\n",
       "    }\n",
       "</style>\n",
       "<table border=\"1\" class=\"dataframe\">\n",
       "  <thead>\n",
       "    <tr style=\"text-align: right;\">\n",
       "      <th></th>\n",
       "      <th>LinReg</th>\n",
       "      <th>RFR</th>\n",
       "      <th>SVR</th>\n",
       "    </tr>\n",
       "  </thead>\n",
       "  <tbody>\n",
       "    <tr>\n",
       "      <th>in sample</th>\n",
       "      <td>1.889630e+04</td>\n",
       "      <td>11758.493637</td>\n",
       "      <td>42595.262621</td>\n",
       "    </tr>\n",
       "    <tr>\n",
       "      <th>out of sample</th>\n",
       "      <td>2.507286e+10</td>\n",
       "      <td>30272.930026</td>\n",
       "      <td>NaN</td>\n",
       "    </tr>\n",
       "  </tbody>\n",
       "</table>\n",
       "</div>"
      ],
      "text/plain": [
       "                     LinReg           RFR           SVR\n",
       "in sample      1.889630e+04  11758.493637  42595.262621\n",
       "out of sample  2.507286e+10  30272.930026           NaN"
      ]
     },
     "execution_count": 25,
     "metadata": {},
     "output_type": "execute_result"
    }
   ],
   "source": [
    "rmse = pd.DataFrame({'LinReg': lin_reg_rmse,\n",
    "                    'RFR': rfr_reg_rmse,\n",
    "                    'SVR': svr_reg_rmse}\n",
    "                   )\n",
    "rmse"
   ]
  },
  {
   "cell_type": "markdown",
   "metadata": {},
   "source": [
    "## Grid"
   ]
  },
  {
   "cell_type": "code",
   "execution_count": 27,
   "metadata": {},
   "outputs": [
    {
     "data": {
      "text/plain": [
       "GridSearchCV(cv=10, error_score='raise-deprecating',\n",
       "       estimator=SVR(C=100, cache_size=200, coef0=0.0, degree=3, epsilon=0.1,\n",
       "  gamma='auto_deprecated', kernel='rbf', max_iter=100000, shrinking=True,\n",
       "  tol=0.001, verbose=False),\n",
       "       fit_params=None, iid='warn', n_jobs=None,\n",
       "       param_grid=[{'kernel': ['rbf'], 'gamma': [0.1], 'epsilon': [0.1]}, {'kernel': ['linear'], 'gamma': ['auto']}, {'kernel': ['poly'], 'gamma': ['auto'], 'degree': [3], 'epsilon': [0.1]}],\n",
       "       pre_dispatch='2*n_jobs', refit=True, return_train_score='warn',\n",
       "       scoring='neg_mean_squared_error', verbose=0)"
      ]
     },
     "execution_count": 27,
     "metadata": {},
     "output_type": "execute_result"
    }
   ],
   "source": [
    "from sklearn.svm import SVR\n",
    "from sklearn.model_selection import GridSearchCV\n",
    "\n",
    "# The following parameter grid has been adapted from \n",
    "# https://scikit-learn.org/stable/auto_examples/svm/plot_svm_regression.html\n",
    "param_grid = [dict(kernel=['rbf'], gamma=[0.1], \n",
    "               epsilon=[0.1]),\n",
    "              dict(kernel=['linear'], gamma=['auto']),\n",
    "              dict(kernel=['poly'], gamma=['auto'], degree=[3], \n",
    "                   epsilon=[.1])\n",
    "             ]\n",
    "\n",
    "from sklearn.preprocessing import MinMaxScaler\n",
    "scaler = MinMaxScaler()\n",
    "X_train_final_mm = scaler.fit_transform(X_train_final)\n",
    "X_test_final_mm = scaler.transform(X_test_final)\n",
    "\n",
    "sv_reg = SVR(max_iter=100000, C=100)\n",
    "\n",
    "svr_search = GridSearchCV(sv_reg, param_grid, \n",
    "                          cv=10, scoring='neg_mean_squared_error')\n",
    "\n",
    "svr_search.fit(X_train_final_mm, y_train)"
   ]
  },
  {
   "cell_type": "code",
   "execution_count": 21,
   "metadata": {},
   "outputs": [
    {
     "data": {
      "text/plain": [
       "{'gamma': 'auto', 'kernel': 'linear'}"
      ]
     },
     "execution_count": 21,
     "metadata": {},
     "output_type": "execute_result"
    }
   ],
   "source": [
    "svr_search.best_params_"
   ]
  },
  {
   "cell_type": "code",
   "execution_count": 22,
   "metadata": {},
   "outputs": [
    {
     "data": {
      "text/plain": [
       "48670.01203967182"
      ]
     },
     "execution_count": 22,
     "metadata": {},
     "output_type": "execute_result"
    }
   ],
   "source": [
    "np.sqrt(-svr_search.best_score_)"
   ]
  },
  {
   "cell_type": "code",
   "execution_count": 23,
   "metadata": {},
   "outputs": [],
   "source": [
    "svr_in_sample_mse = mean_squared_error(y_train, \n",
    "                           svr_search.predict(X_train_final))"
   ]
  },
  {
   "cell_type": "code",
   "execution_count": 24,
   "metadata": {},
   "outputs": [
    {
     "data": {
      "text/plain": [
       "in sample        1.281932e+07\n",
       "out of sample    4.867001e+04\n",
       "dtype: float64"
      ]
     },
     "execution_count": 24,
     "metadata": {},
     "output_type": "execute_result"
    }
   ],
   "source": [
    "svr_reg_rmse = pd.Series({'in sample': np.sqrt(svr_in_sample_mse),\n",
    "                         'out of sample': np.sqrt(-svr_search.best_score_)})\n",
    "svr_reg_rmse "
   ]
  },
  {
   "cell_type": "code",
   "execution_count": 25,
   "metadata": {},
   "outputs": [
    {
     "ename": "NameError",
     "evalue": "name 'lin_reg_rmse' is not defined",
     "output_type": "error",
     "traceback": [
      "\u001b[1;31m---------------------------------------------------------------------------\u001b[0m",
      "\u001b[1;31mNameError\u001b[0m                                 Traceback (most recent call last)",
      "\u001b[1;32m<ipython-input-25-02c802e2e856>\u001b[0m in \u001b[0;36m<module>\u001b[1;34m()\u001b[0m\n\u001b[1;32m----> 1\u001b[1;33m rmse = pd.DataFrame({'LinReg': lin_reg_rmse,\n\u001b[0m\u001b[0;32m      2\u001b[0m                     \u001b[1;34m'RFR'\u001b[0m\u001b[1;33m:\u001b[0m \u001b[0mrfr_reg_rmse\u001b[0m\u001b[1;33m,\u001b[0m\u001b[1;33m\u001b[0m\u001b[0m\n\u001b[0;32m      3\u001b[0m                     'SVR': svr_reg_rmse}\n\u001b[0;32m      4\u001b[0m                    )\n\u001b[0;32m      5\u001b[0m \u001b[0mrmse\u001b[0m\u001b[1;33m\u001b[0m\u001b[0m\n",
      "\u001b[1;31mNameError\u001b[0m: name 'lin_reg_rmse' is not defined"
     ]
    }
   ],
   "source": [
    "rmse = pd.DataFrame({'LinReg': lin_reg_rmse,\n",
    "                    'RFR': rfr_reg_rmse,\n",
    "                    'SVR': svr_reg_rmse}\n",
    "                   )\n",
    "rmse"
   ]
  },
  {
   "cell_type": "code",
   "execution_count": null,
   "metadata": {},
   "outputs": [],
   "source": []
  }
 ],
 "metadata": {
  "kernelspec": {
   "display_name": "Python 3",
   "language": "python",
   "name": "python3"
  },
  "language_info": {
   "codemirror_mode": {
    "name": "ipython",
    "version": 3
   },
   "file_extension": ".py",
   "mimetype": "text/x-python",
   "name": "python",
   "nbconvert_exporter": "python",
   "pygments_lexer": "ipython3",
   "version": "3.7.0"
  }
 },
 "nbformat": 4,
 "nbformat_minor": 2
}
